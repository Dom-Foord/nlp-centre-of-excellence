{
 "cells": [
  {
   "cell_type": "code",
   "execution_count": null,
   "metadata": {},
   "outputs": [],
   "source": [
    "import os\n",
    "import openai\n",
    "import pandas as pd\n",
    "\n",
    "openai.api_key = os.getenv(\"OPENAI_API_KEY\")\n",
    "\n",
    "l_age = ['18', '20', '30', '40', '50', '60', '90']\n",
    "l_gender = ['man', 'woman']\n",
    "l_power = ['invisibility', 'read in the thoughts', 'turning lead into gold', 'immortality', 'telepathy', 'teleport', 'flight'] \n",
    "\n",
    "f_prompt = \"Imagine a complete and detailed description of a {age}-year-old {gender} fictional character who has the superpower of {power}. Write out the entire description in a maximum of 100 words in great detail:\"\n",
    "f_sub_prompt = \"{age}, {gender}, {power}\"\n",
    "\n",
    "df = pd.DataFrame()\n",
    "for age in l_age:\n",
    " for gender in l_gender:\n",
    "  for power in l_power:\n",
    "   for i in range(3): ## 3 times each\n",
    "    prompt = f_prompt.format(age=age, gender=gender, power=power)\n",
    "    sub_prompt = f_sub_prompt.format(age=age, gender=gender, power=power)\n",
    "    print(sub_prompt)\n",
    "\n",
    "    response = openai.Completion.create(\n",
    "     model=\"text-davinci-003\",\n",
    "     prompt=prompt,\n",
    "     temperature=1,\n",
    "     max_tokens=500,\n",
    "     top_p=1,\n",
    "     frequency_penalty=0,\n",
    "     presence_penalty=0\n",
    "    )\n",
    "    \n",
    "    finish_reason = response['choices'][0]['finish_reason']\n",
    "    response_txt = response['choices'][0]['text']\n",
    "    \n",
    "    new_row = {\n",
    "      'age':age, \n",
    "      'gender':gender, \n",
    "      'power':power, \n",
    "      'prompt':prompt, \n",
    "      'sub_prompt':sub_prompt, \n",
    "      'response_txt':response_txt, \n",
    "      'finish_reason':finish_reason}\n",
    "    new_row = pd.DataFrame([new_row])\n",
    "    df = pd.concat([df, new_row], axis=0, ignore_index=True)\n",
    "\n",
    "df.to_csv(\"out_openai_completion.csv\")"
   ]
  }
 ],
 "metadata": {
  "instance_type": "ml.t3.medium",
  "kernelspec": {
   "display_name": "Python 3 (Data Science)",
   "language": "python",
   "name": "python3__SAGEMAKER_INTERNAL__arn:aws:sagemaker:eu-west-1:470317259841:image/datascience-1.0"
  },
  "language_info": {
   "codemirror_mode": {
    "name": "ipython",
    "version": 3
   },
   "file_extension": ".py",
   "mimetype": "text/x-python",
   "name": "python",
   "nbconvert_exporter": "python",
   "pygments_lexer": "ipython3",
   "version": "3.7.10"
  }
 },
 "nbformat": 4,
 "nbformat_minor": 4
}
