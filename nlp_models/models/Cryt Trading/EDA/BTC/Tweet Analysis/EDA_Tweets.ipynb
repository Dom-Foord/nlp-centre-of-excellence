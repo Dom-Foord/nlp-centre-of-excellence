{
 "cells": [
  {
   "cell_type": "code",
   "execution_count": 111,
   "metadata": {},
   "outputs": [],
   "source": [
    "import pandas as pd\n",
    "import numpy as np\n",
    "import datetime\n",
    "import seaborn as sn\n",
    "import matplotlib.pyplot as plt\n",
    "\n",
    "from itertools import cycle\n",
    "\n",
    "import plotly.graph_objects as go\n",
    "import plotly.express as px\n",
    "from plotly.subplots import make_subplots\n",
    "import matplotlib.pyplot as plt"
   ]
  },
  {
   "cell_type": "code",
   "execution_count": 112,
   "metadata": {},
   "outputs": [],
   "source": [
    "df_BTC = pd.read_csv('final_BTCUSDT.csv')"
   ]
  },
  {
   "cell_type": "code",
   "execution_count": 113,
   "metadata": {},
   "outputs": [
    {
     "data": {
      "text/html": [
       "<div>\n",
       "<style scoped>\n",
       "    .dataframe tbody tr th:only-of-type {\n",
       "        vertical-align: middle;\n",
       "    }\n",
       "\n",
       "    .dataframe tbody tr th {\n",
       "        vertical-align: top;\n",
       "    }\n",
       "\n",
       "    .dataframe thead th {\n",
       "        text-align: right;\n",
       "    }\n",
       "</style>\n",
       "<table border=\"1\" class=\"dataframe\">\n",
       "  <thead>\n",
       "    <tr style=\"text-align: right;\">\n",
       "      <th></th>\n",
       "      <th>open_time</th>\n",
       "      <th>close_time</th>\n",
       "      <th>open</th>\n",
       "      <th>high</th>\n",
       "      <th>low</th>\n",
       "      <th>close</th>\n",
       "      <th>volume</th>\n",
       "      <th>quote_asset_volume</th>\n",
       "      <th>num_trades</th>\n",
       "      <th>taker_buy_base_asset_volume</th>\n",
       "      <th>taker_buy_quote_asset_volume</th>\n",
       "      <th>ignore</th>\n",
       "      <th>open_timestamp</th>\n",
       "      <th>close_timestamp</th>\n",
       "      <th>symbol</th>\n",
       "      <th>currency</th>\n",
       "    </tr>\n",
       "  </thead>\n",
       "  <tbody>\n",
       "    <tr>\n",
       "      <th>0</th>\n",
       "      <td>12/31/2021, 23:00:00</td>\n",
       "      <td>12/31/2021, 23:59:59</td>\n",
       "      <td>46303.98</td>\n",
       "      <td>46520.13</td>\n",
       "      <td>46132.04</td>\n",
       "      <td>46216.93</td>\n",
       "      <td>985.99762</td>\n",
       "      <td>4.571976e+07</td>\n",
       "      <td>29555</td>\n",
       "      <td>484.09229</td>\n",
       "      <td>2.244919e+07</td>\n",
       "      <td>0</td>\n",
       "      <td>1640991600000</td>\n",
       "      <td>1640995199999</td>\n",
       "      <td>BTC</td>\n",
       "      <td>USDT</td>\n",
       "    </tr>\n",
       "    <tr>\n",
       "      <th>1</th>\n",
       "      <td>12/31/2021, 22:00:00</td>\n",
       "      <td>12/31/2021, 22:59:59</td>\n",
       "      <td>46333.87</td>\n",
       "      <td>46569.97</td>\n",
       "      <td>46232.36</td>\n",
       "      <td>46303.99</td>\n",
       "      <td>991.85142</td>\n",
       "      <td>4.600406e+07</td>\n",
       "      <td>36280</td>\n",
       "      <td>447.96605</td>\n",
       "      <td>2.077702e+07</td>\n",
       "      <td>0</td>\n",
       "      <td>1640988000000</td>\n",
       "      <td>1640991599999</td>\n",
       "      <td>BTC</td>\n",
       "      <td>USDT</td>\n",
       "    </tr>\n",
       "    <tr>\n",
       "      <th>2</th>\n",
       "      <td>12/31/2021, 21:00:00</td>\n",
       "      <td>12/31/2021, 21:59:59</td>\n",
       "      <td>45886.66</td>\n",
       "      <td>46513.67</td>\n",
       "      <td>45766.85</td>\n",
       "      <td>46333.86</td>\n",
       "      <td>1734.69585</td>\n",
       "      <td>7.997065e+07</td>\n",
       "      <td>54579</td>\n",
       "      <td>972.44065</td>\n",
       "      <td>4.482430e+07</td>\n",
       "      <td>0</td>\n",
       "      <td>1640984400000</td>\n",
       "      <td>1640987999999</td>\n",
       "      <td>BTC</td>\n",
       "      <td>USDT</td>\n",
       "    </tr>\n",
       "    <tr>\n",
       "      <th>3</th>\n",
       "      <td>12/31/2021, 20:00:00</td>\n",
       "      <td>12/31/2021, 20:59:59</td>\n",
       "      <td>45728.28</td>\n",
       "      <td>46211.07</td>\n",
       "      <td>45678.00</td>\n",
       "      <td>45879.24</td>\n",
       "      <td>1831.41202</td>\n",
       "      <td>8.422142e+07</td>\n",
       "      <td>51300</td>\n",
       "      <td>997.72369</td>\n",
       "      <td>4.588270e+07</td>\n",
       "      <td>0</td>\n",
       "      <td>1640980800000</td>\n",
       "      <td>1640984399999</td>\n",
       "      <td>BTC</td>\n",
       "      <td>USDT</td>\n",
       "    </tr>\n",
       "    <tr>\n",
       "      <th>4</th>\n",
       "      <td>12/31/2021, 19:00:00</td>\n",
       "      <td>12/31/2021, 19:59:59</td>\n",
       "      <td>46686.42</td>\n",
       "      <td>46688.68</td>\n",
       "      <td>45678.96</td>\n",
       "      <td>45728.28</td>\n",
       "      <td>3851.30902</td>\n",
       "      <td>1.776171e+08</td>\n",
       "      <td>87472</td>\n",
       "      <td>1691.64542</td>\n",
       "      <td>7.803749e+07</td>\n",
       "      <td>0</td>\n",
       "      <td>1640977200000</td>\n",
       "      <td>1640980799999</td>\n",
       "      <td>BTC</td>\n",
       "      <td>USDT</td>\n",
       "    </tr>\n",
       "  </tbody>\n",
       "</table>\n",
       "</div>"
      ],
      "text/plain": [
       "              open_time            close_time      open      high       low  \\\n",
       "0  12/31/2021, 23:00:00  12/31/2021, 23:59:59  46303.98  46520.13  46132.04   \n",
       "1  12/31/2021, 22:00:00  12/31/2021, 22:59:59  46333.87  46569.97  46232.36   \n",
       "2  12/31/2021, 21:00:00  12/31/2021, 21:59:59  45886.66  46513.67  45766.85   \n",
       "3  12/31/2021, 20:00:00  12/31/2021, 20:59:59  45728.28  46211.07  45678.00   \n",
       "4  12/31/2021, 19:00:00  12/31/2021, 19:59:59  46686.42  46688.68  45678.96   \n",
       "\n",
       "      close      volume  quote_asset_volume  num_trades  \\\n",
       "0  46216.93   985.99762        4.571976e+07       29555   \n",
       "1  46303.99   991.85142        4.600406e+07       36280   \n",
       "2  46333.86  1734.69585        7.997065e+07       54579   \n",
       "3  45879.24  1831.41202        8.422142e+07       51300   \n",
       "4  45728.28  3851.30902        1.776171e+08       87472   \n",
       "\n",
       "   taker_buy_base_asset_volume  taker_buy_quote_asset_volume  ignore  \\\n",
       "0                    484.09229                  2.244919e+07       0   \n",
       "1                    447.96605                  2.077702e+07       0   \n",
       "2                    972.44065                  4.482430e+07       0   \n",
       "3                    997.72369                  4.588270e+07       0   \n",
       "4                   1691.64542                  7.803749e+07       0   \n",
       "\n",
       "   open_timestamp  close_timestamp symbol currency  \n",
       "0   1640991600000    1640995199999    BTC     USDT  \n",
       "1   1640988000000    1640991599999    BTC     USDT  \n",
       "2   1640984400000    1640987999999    BTC     USDT  \n",
       "3   1640980800000    1640984399999    BTC     USDT  \n",
       "4   1640977200000    1640980799999    BTC     USDT  "
      ]
     },
     "execution_count": 113,
     "metadata": {},
     "output_type": "execute_result"
    }
   ],
   "source": [
    "df_BTC.head()"
   ]
  },
  {
   "cell_type": "code",
   "execution_count": null,
   "metadata": {},
   "outputs": [],
   "source": []
  },
  {
   "cell_type": "code",
   "execution_count": 114,
   "metadata": {},
   "outputs": [
    {
     "data": {
      "text/plain": [
       "0        12/31/2021, 23:00:00\n",
       "1        12/31/2021, 22:00:00\n",
       "2        12/31/2021, 21:00:00\n",
       "3        12/31/2021, 20:00:00\n",
       "4        12/31/2021, 19:00:00\n",
       "                 ...         \n",
       "21269    01/01/2023, 04:00:00\n",
       "21270    01/01/2023, 03:00:00\n",
       "21271    01/01/2023, 02:00:00\n",
       "21272    01/01/2023, 01:00:00\n",
       "21273    01/01/2023, 00:00:00\n",
       "Name: open_time, Length: 21274, dtype: object"
      ]
     },
     "execution_count": 114,
     "metadata": {},
     "output_type": "execute_result"
    }
   ],
   "source": [
    "df_BTC['open_time']"
   ]
  },
  {
   "cell_type": "code",
   "execution_count": 115,
   "metadata": {},
   "outputs": [],
   "source": [
    "df_BTC['datetime'] = df_BTC['close_time'].apply(lambda x: datetime.datetime.strptime(x, \"%m/%d/%Y, %H:%M:%S\"))"
   ]
  },
  {
   "cell_type": "code",
   "execution_count": 116,
   "metadata": {},
   "outputs": [],
   "source": [
    "df_BTC['year'] = df_BTC['datetime'].apply(lambda x: x.year)\n",
    "df_BTC['month'] = df_BTC['datetime'].apply(lambda x: x.month)\n",
    "df_BTC['day'] = df_BTC['datetime'].apply(lambda x: x.day)\n",
    "df_BTC['day_of_week'] = df_BTC['datetime'].apply(lambda x: x.weekday())\n",
    "df_BTC['hour'] = df_BTC['datetime'].apply(lambda x: x.hour)"
   ]
  },
  {
   "cell_type": "code",
   "execution_count": 117,
   "metadata": {},
   "outputs": [
    {
     "data": {
      "text/html": [
       "<div>\n",
       "<style scoped>\n",
       "    .dataframe tbody tr th:only-of-type {\n",
       "        vertical-align: middle;\n",
       "    }\n",
       "\n",
       "    .dataframe tbody tr th {\n",
       "        vertical-align: top;\n",
       "    }\n",
       "\n",
       "    .dataframe thead th {\n",
       "        text-align: right;\n",
       "    }\n",
       "</style>\n",
       "<table border=\"1\" class=\"dataframe\">\n",
       "  <thead>\n",
       "    <tr style=\"text-align: right;\">\n",
       "      <th></th>\n",
       "      <th>open_time</th>\n",
       "      <th>close_time</th>\n",
       "      <th>open</th>\n",
       "      <th>high</th>\n",
       "      <th>low</th>\n",
       "      <th>close</th>\n",
       "      <th>volume</th>\n",
       "      <th>quote_asset_volume</th>\n",
       "      <th>num_trades</th>\n",
       "      <th>taker_buy_base_asset_volume</th>\n",
       "      <th>...</th>\n",
       "      <th>open_timestamp</th>\n",
       "      <th>close_timestamp</th>\n",
       "      <th>symbol</th>\n",
       "      <th>currency</th>\n",
       "      <th>datetime</th>\n",
       "      <th>year</th>\n",
       "      <th>month</th>\n",
       "      <th>day</th>\n",
       "      <th>day_of_week</th>\n",
       "      <th>hour</th>\n",
       "    </tr>\n",
       "  </thead>\n",
       "  <tbody>\n",
       "    <tr>\n",
       "      <th>0</th>\n",
       "      <td>12/31/2021, 23:00:00</td>\n",
       "      <td>12/31/2021, 23:59:59</td>\n",
       "      <td>46303.98</td>\n",
       "      <td>46520.13</td>\n",
       "      <td>46132.04</td>\n",
       "      <td>46216.93</td>\n",
       "      <td>985.99762</td>\n",
       "      <td>4.571976e+07</td>\n",
       "      <td>29555</td>\n",
       "      <td>484.09229</td>\n",
       "      <td>...</td>\n",
       "      <td>1640991600000</td>\n",
       "      <td>1640995199999</td>\n",
       "      <td>BTC</td>\n",
       "      <td>USDT</td>\n",
       "      <td>2021-12-31 23:59:59</td>\n",
       "      <td>2021</td>\n",
       "      <td>12</td>\n",
       "      <td>31</td>\n",
       "      <td>4</td>\n",
       "      <td>23</td>\n",
       "    </tr>\n",
       "    <tr>\n",
       "      <th>1</th>\n",
       "      <td>12/31/2021, 22:00:00</td>\n",
       "      <td>12/31/2021, 22:59:59</td>\n",
       "      <td>46333.87</td>\n",
       "      <td>46569.97</td>\n",
       "      <td>46232.36</td>\n",
       "      <td>46303.99</td>\n",
       "      <td>991.85142</td>\n",
       "      <td>4.600406e+07</td>\n",
       "      <td>36280</td>\n",
       "      <td>447.96605</td>\n",
       "      <td>...</td>\n",
       "      <td>1640988000000</td>\n",
       "      <td>1640991599999</td>\n",
       "      <td>BTC</td>\n",
       "      <td>USDT</td>\n",
       "      <td>2021-12-31 22:59:59</td>\n",
       "      <td>2021</td>\n",
       "      <td>12</td>\n",
       "      <td>31</td>\n",
       "      <td>4</td>\n",
       "      <td>22</td>\n",
       "    </tr>\n",
       "    <tr>\n",
       "      <th>2</th>\n",
       "      <td>12/31/2021, 21:00:00</td>\n",
       "      <td>12/31/2021, 21:59:59</td>\n",
       "      <td>45886.66</td>\n",
       "      <td>46513.67</td>\n",
       "      <td>45766.85</td>\n",
       "      <td>46333.86</td>\n",
       "      <td>1734.69585</td>\n",
       "      <td>7.997065e+07</td>\n",
       "      <td>54579</td>\n",
       "      <td>972.44065</td>\n",
       "      <td>...</td>\n",
       "      <td>1640984400000</td>\n",
       "      <td>1640987999999</td>\n",
       "      <td>BTC</td>\n",
       "      <td>USDT</td>\n",
       "      <td>2021-12-31 21:59:59</td>\n",
       "      <td>2021</td>\n",
       "      <td>12</td>\n",
       "      <td>31</td>\n",
       "      <td>4</td>\n",
       "      <td>21</td>\n",
       "    </tr>\n",
       "    <tr>\n",
       "      <th>3</th>\n",
       "      <td>12/31/2021, 20:00:00</td>\n",
       "      <td>12/31/2021, 20:59:59</td>\n",
       "      <td>45728.28</td>\n",
       "      <td>46211.07</td>\n",
       "      <td>45678.00</td>\n",
       "      <td>45879.24</td>\n",
       "      <td>1831.41202</td>\n",
       "      <td>8.422142e+07</td>\n",
       "      <td>51300</td>\n",
       "      <td>997.72369</td>\n",
       "      <td>...</td>\n",
       "      <td>1640980800000</td>\n",
       "      <td>1640984399999</td>\n",
       "      <td>BTC</td>\n",
       "      <td>USDT</td>\n",
       "      <td>2021-12-31 20:59:59</td>\n",
       "      <td>2021</td>\n",
       "      <td>12</td>\n",
       "      <td>31</td>\n",
       "      <td>4</td>\n",
       "      <td>20</td>\n",
       "    </tr>\n",
       "    <tr>\n",
       "      <th>4</th>\n",
       "      <td>12/31/2021, 19:00:00</td>\n",
       "      <td>12/31/2021, 19:59:59</td>\n",
       "      <td>46686.42</td>\n",
       "      <td>46688.68</td>\n",
       "      <td>45678.96</td>\n",
       "      <td>45728.28</td>\n",
       "      <td>3851.30902</td>\n",
       "      <td>1.776171e+08</td>\n",
       "      <td>87472</td>\n",
       "      <td>1691.64542</td>\n",
       "      <td>...</td>\n",
       "      <td>1640977200000</td>\n",
       "      <td>1640980799999</td>\n",
       "      <td>BTC</td>\n",
       "      <td>USDT</td>\n",
       "      <td>2021-12-31 19:59:59</td>\n",
       "      <td>2021</td>\n",
       "      <td>12</td>\n",
       "      <td>31</td>\n",
       "      <td>4</td>\n",
       "      <td>19</td>\n",
       "    </tr>\n",
       "  </tbody>\n",
       "</table>\n",
       "<p>5 rows × 22 columns</p>\n",
       "</div>"
      ],
      "text/plain": [
       "              open_time            close_time      open      high       low  \\\n",
       "0  12/31/2021, 23:00:00  12/31/2021, 23:59:59  46303.98  46520.13  46132.04   \n",
       "1  12/31/2021, 22:00:00  12/31/2021, 22:59:59  46333.87  46569.97  46232.36   \n",
       "2  12/31/2021, 21:00:00  12/31/2021, 21:59:59  45886.66  46513.67  45766.85   \n",
       "3  12/31/2021, 20:00:00  12/31/2021, 20:59:59  45728.28  46211.07  45678.00   \n",
       "4  12/31/2021, 19:00:00  12/31/2021, 19:59:59  46686.42  46688.68  45678.96   \n",
       "\n",
       "      close      volume  quote_asset_volume  num_trades  \\\n",
       "0  46216.93   985.99762        4.571976e+07       29555   \n",
       "1  46303.99   991.85142        4.600406e+07       36280   \n",
       "2  46333.86  1734.69585        7.997065e+07       54579   \n",
       "3  45879.24  1831.41202        8.422142e+07       51300   \n",
       "4  45728.28  3851.30902        1.776171e+08       87472   \n",
       "\n",
       "   taker_buy_base_asset_volume  ...  open_timestamp  close_timestamp  symbol  \\\n",
       "0                    484.09229  ...   1640991600000    1640995199999     BTC   \n",
       "1                    447.96605  ...   1640988000000    1640991599999     BTC   \n",
       "2                    972.44065  ...   1640984400000    1640987999999     BTC   \n",
       "3                    997.72369  ...   1640980800000    1640984399999     BTC   \n",
       "4                   1691.64542  ...   1640977200000    1640980799999     BTC   \n",
       "\n",
       "   currency            datetime  year month  day  day_of_week  hour  \n",
       "0      USDT 2021-12-31 23:59:59  2021    12   31            4    23  \n",
       "1      USDT 2021-12-31 22:59:59  2021    12   31            4    22  \n",
       "2      USDT 2021-12-31 21:59:59  2021    12   31            4    21  \n",
       "3      USDT 2021-12-31 20:59:59  2021    12   31            4    20  \n",
       "4      USDT 2021-12-31 19:59:59  2021    12   31            4    19  \n",
       "\n",
       "[5 rows x 22 columns]"
      ]
     },
     "execution_count": 117,
     "metadata": {},
     "output_type": "execute_result"
    }
   ],
   "source": [
    "df_BTC.head()"
   ]
  },
  {
   "cell_type": "code",
   "execution_count": 118,
   "metadata": {},
   "outputs": [
    {
     "data": {
      "text/plain": [
       "open_time                               object\n",
       "close_time                              object\n",
       "open                                   float64\n",
       "high                                   float64\n",
       "low                                    float64\n",
       "close                                  float64\n",
       "volume                                 float64\n",
       "quote_asset_volume                     float64\n",
       "num_trades                               int64\n",
       "taker_buy_base_asset_volume            float64\n",
       "taker_buy_quote_asset_volume           float64\n",
       "ignore                                   int64\n",
       "open_timestamp                           int64\n",
       "close_timestamp                          int64\n",
       "symbol                                  object\n",
       "currency                                object\n",
       "datetime                        datetime64[ns]\n",
       "year                                     int64\n",
       "month                                    int64\n",
       "day                                      int64\n",
       "day_of_week                              int64\n",
       "hour                                     int64\n",
       "dtype: object"
      ]
     },
     "execution_count": 118,
     "metadata": {},
     "output_type": "execute_result"
    }
   ],
   "source": [
    "df_BTC.dtypes"
   ]
  },
  {
   "cell_type": "code",
   "execution_count": 119,
   "metadata": {},
   "outputs": [],
   "source": [
    "df_BTC = df_BTC.sort_values('datetime', ascending = True).reset_index()"
   ]
  },
  {
   "cell_type": "code",
   "execution_count": 120,
   "metadata": {},
   "outputs": [],
   "source": [
    "df_BTC['change_close'] = - (df_BTC['close'].shift(1) - df_BTC['close'])"
   ]
  },
  {
   "cell_type": "code",
   "execution_count": 121,
   "metadata": {},
   "outputs": [
    {
     "data": {
      "text/html": [
       "<div>\n",
       "<style scoped>\n",
       "    .dataframe tbody tr th:only-of-type {\n",
       "        vertical-align: middle;\n",
       "    }\n",
       "\n",
       "    .dataframe tbody tr th {\n",
       "        vertical-align: top;\n",
       "    }\n",
       "\n",
       "    .dataframe thead th {\n",
       "        text-align: right;\n",
       "    }\n",
       "</style>\n",
       "<table border=\"1\" class=\"dataframe\">\n",
       "  <thead>\n",
       "    <tr style=\"text-align: right;\">\n",
       "      <th></th>\n",
       "      <th>index</th>\n",
       "      <th>open_time</th>\n",
       "      <th>close_time</th>\n",
       "      <th>open</th>\n",
       "      <th>high</th>\n",
       "      <th>low</th>\n",
       "      <th>close</th>\n",
       "      <th>volume</th>\n",
       "      <th>quote_asset_volume</th>\n",
       "      <th>num_trades</th>\n",
       "      <th>...</th>\n",
       "      <th>close_timestamp</th>\n",
       "      <th>symbol</th>\n",
       "      <th>currency</th>\n",
       "      <th>datetime</th>\n",
       "      <th>year</th>\n",
       "      <th>month</th>\n",
       "      <th>day</th>\n",
       "      <th>day_of_week</th>\n",
       "      <th>hour</th>\n",
       "      <th>change_close</th>\n",
       "    </tr>\n",
       "  </thead>\n",
       "  <tbody>\n",
       "    <tr>\n",
       "      <th>21269</th>\n",
       "      <td>17511</td>\n",
       "      <td>06/06/2023, 19:00:00</td>\n",
       "      <td>06/06/2023, 19:59:59</td>\n",
       "      <td>26698.08</td>\n",
       "      <td>27216.89</td>\n",
       "      <td>26690.93</td>\n",
       "      <td>27080.13</td>\n",
       "      <td>6336.18815</td>\n",
       "      <td>1.708337e+08</td>\n",
       "      <td>104285</td>\n",
       "      <td>...</td>\n",
       "      <td>1686081599999</td>\n",
       "      <td>BTC</td>\n",
       "      <td>USDT</td>\n",
       "      <td>2023-06-06 19:59:59</td>\n",
       "      <td>2023</td>\n",
       "      <td>6</td>\n",
       "      <td>6</td>\n",
       "      <td>1</td>\n",
       "      <td>19</td>\n",
       "      <td>382.05</td>\n",
       "    </tr>\n",
       "    <tr>\n",
       "      <th>21270</th>\n",
       "      <td>17510</td>\n",
       "      <td>06/06/2023, 20:00:00</td>\n",
       "      <td>06/06/2023, 20:59:59</td>\n",
       "      <td>27080.12</td>\n",
       "      <td>27222.00</td>\n",
       "      <td>26857.92</td>\n",
       "      <td>26944.98</td>\n",
       "      <td>5242.13695</td>\n",
       "      <td>1.416812e+08</td>\n",
       "      <td>94525</td>\n",
       "      <td>...</td>\n",
       "      <td>1686085199999</td>\n",
       "      <td>BTC</td>\n",
       "      <td>USDT</td>\n",
       "      <td>2023-06-06 20:59:59</td>\n",
       "      <td>2023</td>\n",
       "      <td>6</td>\n",
       "      <td>6</td>\n",
       "      <td>1</td>\n",
       "      <td>20</td>\n",
       "      <td>-135.15</td>\n",
       "    </tr>\n",
       "    <tr>\n",
       "      <th>21271</th>\n",
       "      <td>17509</td>\n",
       "      <td>06/06/2023, 21:00:00</td>\n",
       "      <td>06/06/2023, 21:59:59</td>\n",
       "      <td>26944.99</td>\n",
       "      <td>27092.82</td>\n",
       "      <td>26938.06</td>\n",
       "      <td>27057.03</td>\n",
       "      <td>2014.79907</td>\n",
       "      <td>5.443146e+07</td>\n",
       "      <td>47340</td>\n",
       "      <td>...</td>\n",
       "      <td>1686088799999</td>\n",
       "      <td>BTC</td>\n",
       "      <td>USDT</td>\n",
       "      <td>2023-06-06 21:59:59</td>\n",
       "      <td>2023</td>\n",
       "      <td>6</td>\n",
       "      <td>6</td>\n",
       "      <td>1</td>\n",
       "      <td>21</td>\n",
       "      <td>112.05</td>\n",
       "    </tr>\n",
       "    <tr>\n",
       "      <th>21272</th>\n",
       "      <td>17508</td>\n",
       "      <td>06/06/2023, 22:00:00</td>\n",
       "      <td>06/06/2023, 22:59:59</td>\n",
       "      <td>27057.03</td>\n",
       "      <td>27188.46</td>\n",
       "      <td>27044.34</td>\n",
       "      <td>27152.65</td>\n",
       "      <td>1842.84082</td>\n",
       "      <td>4.994595e+07</td>\n",
       "      <td>36436</td>\n",
       "      <td>...</td>\n",
       "      <td>1686092399999</td>\n",
       "      <td>BTC</td>\n",
       "      <td>USDT</td>\n",
       "      <td>2023-06-06 22:59:59</td>\n",
       "      <td>2023</td>\n",
       "      <td>6</td>\n",
       "      <td>6</td>\n",
       "      <td>1</td>\n",
       "      <td>22</td>\n",
       "      <td>95.62</td>\n",
       "    </tr>\n",
       "    <tr>\n",
       "      <th>21273</th>\n",
       "      <td>17507</td>\n",
       "      <td>06/06/2023, 23:00:00</td>\n",
       "      <td>06/06/2023, 23:59:59</td>\n",
       "      <td>27152.66</td>\n",
       "      <td>27355.33</td>\n",
       "      <td>27120.02</td>\n",
       "      <td>27230.08</td>\n",
       "      <td>3752.27128</td>\n",
       "      <td>1.021350e+08</td>\n",
       "      <td>63295</td>\n",
       "      <td>...</td>\n",
       "      <td>1686095999999</td>\n",
       "      <td>BTC</td>\n",
       "      <td>USDT</td>\n",
       "      <td>2023-06-06 23:59:59</td>\n",
       "      <td>2023</td>\n",
       "      <td>6</td>\n",
       "      <td>6</td>\n",
       "      <td>1</td>\n",
       "      <td>23</td>\n",
       "      <td>77.43</td>\n",
       "    </tr>\n",
       "  </tbody>\n",
       "</table>\n",
       "<p>5 rows × 24 columns</p>\n",
       "</div>"
      ],
      "text/plain": [
       "       index             open_time            close_time      open      high  \\\n",
       "21269  17511  06/06/2023, 19:00:00  06/06/2023, 19:59:59  26698.08  27216.89   \n",
       "21270  17510  06/06/2023, 20:00:00  06/06/2023, 20:59:59  27080.12  27222.00   \n",
       "21271  17509  06/06/2023, 21:00:00  06/06/2023, 21:59:59  26944.99  27092.82   \n",
       "21272  17508  06/06/2023, 22:00:00  06/06/2023, 22:59:59  27057.03  27188.46   \n",
       "21273  17507  06/06/2023, 23:00:00  06/06/2023, 23:59:59  27152.66  27355.33   \n",
       "\n",
       "            low     close      volume  quote_asset_volume  num_trades  ...  \\\n",
       "21269  26690.93  27080.13  6336.18815        1.708337e+08      104285  ...   \n",
       "21270  26857.92  26944.98  5242.13695        1.416812e+08       94525  ...   \n",
       "21271  26938.06  27057.03  2014.79907        5.443146e+07       47340  ...   \n",
       "21272  27044.34  27152.65  1842.84082        4.994595e+07       36436  ...   \n",
       "21273  27120.02  27230.08  3752.27128        1.021350e+08       63295  ...   \n",
       "\n",
       "       close_timestamp  symbol  currency            datetime  year month day  \\\n",
       "21269    1686081599999     BTC      USDT 2023-06-06 19:59:59  2023     6   6   \n",
       "21270    1686085199999     BTC      USDT 2023-06-06 20:59:59  2023     6   6   \n",
       "21271    1686088799999     BTC      USDT 2023-06-06 21:59:59  2023     6   6   \n",
       "21272    1686092399999     BTC      USDT 2023-06-06 22:59:59  2023     6   6   \n",
       "21273    1686095999999     BTC      USDT 2023-06-06 23:59:59  2023     6   6   \n",
       "\n",
       "      day_of_week  hour  change_close  \n",
       "21269           1    19        382.05  \n",
       "21270           1    20       -135.15  \n",
       "21271           1    21        112.05  \n",
       "21272           1    22         95.62  \n",
       "21273           1    23         77.43  \n",
       "\n",
       "[5 rows x 24 columns]"
      ]
     },
     "execution_count": 121,
     "metadata": {},
     "output_type": "execute_result"
    }
   ],
   "source": [
    "df_BTC.tail()"
   ]
  },
  {
   "cell_type": "code",
   "execution_count": 122,
   "metadata": {},
   "outputs": [
    {
     "data": {
      "text/plain": [
       "(21274, 24)"
      ]
     },
     "execution_count": 122,
     "metadata": {},
     "output_type": "execute_result"
    }
   ],
   "source": [
    "df_BTC.shape"
   ]
  },
  {
   "cell_type": "code",
   "execution_count": 123,
   "metadata": {},
   "outputs": [],
   "source": [
    "df_BTC = df_BTC.drop('ignore', axis =1)"
   ]
  },
  {
   "cell_type": "code",
   "execution_count": 124,
   "metadata": {},
   "outputs": [
    {
     "data": {
      "text/html": [
       "<div>\n",
       "<style scoped>\n",
       "    .dataframe tbody tr th:only-of-type {\n",
       "        vertical-align: middle;\n",
       "    }\n",
       "\n",
       "    .dataframe tbody tr th {\n",
       "        vertical-align: top;\n",
       "    }\n",
       "\n",
       "    .dataframe thead th {\n",
       "        text-align: right;\n",
       "    }\n",
       "</style>\n",
       "<table border=\"1\" class=\"dataframe\">\n",
       "  <thead>\n",
       "    <tr style=\"text-align: right;\">\n",
       "      <th></th>\n",
       "      <th>index</th>\n",
       "      <th>open_time</th>\n",
       "      <th>close_time</th>\n",
       "      <th>open</th>\n",
       "      <th>high</th>\n",
       "      <th>low</th>\n",
       "      <th>close</th>\n",
       "      <th>volume</th>\n",
       "      <th>quote_asset_volume</th>\n",
       "      <th>num_trades</th>\n",
       "      <th>...</th>\n",
       "      <th>close_timestamp</th>\n",
       "      <th>symbol</th>\n",
       "      <th>currency</th>\n",
       "      <th>datetime</th>\n",
       "      <th>year</th>\n",
       "      <th>month</th>\n",
       "      <th>day</th>\n",
       "      <th>day_of_week</th>\n",
       "      <th>hour</th>\n",
       "      <th>change_close</th>\n",
       "    </tr>\n",
       "  </thead>\n",
       "  <tbody>\n",
       "    <tr>\n",
       "      <th>21269</th>\n",
       "      <td>17511</td>\n",
       "      <td>06/06/2023, 19:00:00</td>\n",
       "      <td>06/06/2023, 19:59:59</td>\n",
       "      <td>26698.08</td>\n",
       "      <td>27216.89</td>\n",
       "      <td>26690.93</td>\n",
       "      <td>27080.13</td>\n",
       "      <td>6336.18815</td>\n",
       "      <td>1.708337e+08</td>\n",
       "      <td>104285</td>\n",
       "      <td>...</td>\n",
       "      <td>1686081599999</td>\n",
       "      <td>BTC</td>\n",
       "      <td>USDT</td>\n",
       "      <td>2023-06-06 19:59:59</td>\n",
       "      <td>2023</td>\n",
       "      <td>6</td>\n",
       "      <td>6</td>\n",
       "      <td>1</td>\n",
       "      <td>19</td>\n",
       "      <td>382.05</td>\n",
       "    </tr>\n",
       "    <tr>\n",
       "      <th>21270</th>\n",
       "      <td>17510</td>\n",
       "      <td>06/06/2023, 20:00:00</td>\n",
       "      <td>06/06/2023, 20:59:59</td>\n",
       "      <td>27080.12</td>\n",
       "      <td>27222.00</td>\n",
       "      <td>26857.92</td>\n",
       "      <td>26944.98</td>\n",
       "      <td>5242.13695</td>\n",
       "      <td>1.416812e+08</td>\n",
       "      <td>94525</td>\n",
       "      <td>...</td>\n",
       "      <td>1686085199999</td>\n",
       "      <td>BTC</td>\n",
       "      <td>USDT</td>\n",
       "      <td>2023-06-06 20:59:59</td>\n",
       "      <td>2023</td>\n",
       "      <td>6</td>\n",
       "      <td>6</td>\n",
       "      <td>1</td>\n",
       "      <td>20</td>\n",
       "      <td>-135.15</td>\n",
       "    </tr>\n",
       "    <tr>\n",
       "      <th>21271</th>\n",
       "      <td>17509</td>\n",
       "      <td>06/06/2023, 21:00:00</td>\n",
       "      <td>06/06/2023, 21:59:59</td>\n",
       "      <td>26944.99</td>\n",
       "      <td>27092.82</td>\n",
       "      <td>26938.06</td>\n",
       "      <td>27057.03</td>\n",
       "      <td>2014.79907</td>\n",
       "      <td>5.443146e+07</td>\n",
       "      <td>47340</td>\n",
       "      <td>...</td>\n",
       "      <td>1686088799999</td>\n",
       "      <td>BTC</td>\n",
       "      <td>USDT</td>\n",
       "      <td>2023-06-06 21:59:59</td>\n",
       "      <td>2023</td>\n",
       "      <td>6</td>\n",
       "      <td>6</td>\n",
       "      <td>1</td>\n",
       "      <td>21</td>\n",
       "      <td>112.05</td>\n",
       "    </tr>\n",
       "    <tr>\n",
       "      <th>21272</th>\n",
       "      <td>17508</td>\n",
       "      <td>06/06/2023, 22:00:00</td>\n",
       "      <td>06/06/2023, 22:59:59</td>\n",
       "      <td>27057.03</td>\n",
       "      <td>27188.46</td>\n",
       "      <td>27044.34</td>\n",
       "      <td>27152.65</td>\n",
       "      <td>1842.84082</td>\n",
       "      <td>4.994595e+07</td>\n",
       "      <td>36436</td>\n",
       "      <td>...</td>\n",
       "      <td>1686092399999</td>\n",
       "      <td>BTC</td>\n",
       "      <td>USDT</td>\n",
       "      <td>2023-06-06 22:59:59</td>\n",
       "      <td>2023</td>\n",
       "      <td>6</td>\n",
       "      <td>6</td>\n",
       "      <td>1</td>\n",
       "      <td>22</td>\n",
       "      <td>95.62</td>\n",
       "    </tr>\n",
       "    <tr>\n",
       "      <th>21273</th>\n",
       "      <td>17507</td>\n",
       "      <td>06/06/2023, 23:00:00</td>\n",
       "      <td>06/06/2023, 23:59:59</td>\n",
       "      <td>27152.66</td>\n",
       "      <td>27355.33</td>\n",
       "      <td>27120.02</td>\n",
       "      <td>27230.08</td>\n",
       "      <td>3752.27128</td>\n",
       "      <td>1.021350e+08</td>\n",
       "      <td>63295</td>\n",
       "      <td>...</td>\n",
       "      <td>1686095999999</td>\n",
       "      <td>BTC</td>\n",
       "      <td>USDT</td>\n",
       "      <td>2023-06-06 23:59:59</td>\n",
       "      <td>2023</td>\n",
       "      <td>6</td>\n",
       "      <td>6</td>\n",
       "      <td>1</td>\n",
       "      <td>23</td>\n",
       "      <td>77.43</td>\n",
       "    </tr>\n",
       "  </tbody>\n",
       "</table>\n",
       "<p>5 rows × 23 columns</p>\n",
       "</div>"
      ],
      "text/plain": [
       "       index             open_time            close_time      open      high  \\\n",
       "21269  17511  06/06/2023, 19:00:00  06/06/2023, 19:59:59  26698.08  27216.89   \n",
       "21270  17510  06/06/2023, 20:00:00  06/06/2023, 20:59:59  27080.12  27222.00   \n",
       "21271  17509  06/06/2023, 21:00:00  06/06/2023, 21:59:59  26944.99  27092.82   \n",
       "21272  17508  06/06/2023, 22:00:00  06/06/2023, 22:59:59  27057.03  27188.46   \n",
       "21273  17507  06/06/2023, 23:00:00  06/06/2023, 23:59:59  27152.66  27355.33   \n",
       "\n",
       "            low     close      volume  quote_asset_volume  num_trades  ...  \\\n",
       "21269  26690.93  27080.13  6336.18815        1.708337e+08      104285  ...   \n",
       "21270  26857.92  26944.98  5242.13695        1.416812e+08       94525  ...   \n",
       "21271  26938.06  27057.03  2014.79907        5.443146e+07       47340  ...   \n",
       "21272  27044.34  27152.65  1842.84082        4.994595e+07       36436  ...   \n",
       "21273  27120.02  27230.08  3752.27128        1.021350e+08       63295  ...   \n",
       "\n",
       "       close_timestamp  symbol  currency            datetime  year month day  \\\n",
       "21269    1686081599999     BTC      USDT 2023-06-06 19:59:59  2023     6   6   \n",
       "21270    1686085199999     BTC      USDT 2023-06-06 20:59:59  2023     6   6   \n",
       "21271    1686088799999     BTC      USDT 2023-06-06 21:59:59  2023     6   6   \n",
       "21272    1686092399999     BTC      USDT 2023-06-06 22:59:59  2023     6   6   \n",
       "21273    1686095999999     BTC      USDT 2023-06-06 23:59:59  2023     6   6   \n",
       "\n",
       "       day_of_week  hour  change_close  \n",
       "21269            1    19        382.05  \n",
       "21270            1    20       -135.15  \n",
       "21271            1    21        112.05  \n",
       "21272            1    22         95.62  \n",
       "21273            1    23         77.43  \n",
       "\n",
       "[5 rows x 23 columns]"
      ]
     },
     "execution_count": 124,
     "metadata": {},
     "output_type": "execute_result"
    }
   ],
   "source": [
    "df_BTC.tail()"
   ]
  },
  {
   "cell_type": "code",
   "execution_count": 125,
   "metadata": {},
   "outputs": [],
   "source": [
    "corr_matrix = df_BTC.corr()"
   ]
  },
  {
   "cell_type": "code",
   "execution_count": 52,
   "metadata": {},
   "outputs": [],
   "source": [
    "# sn.heatmap(corr_matrix, annot=True)\n",
    "# plt.show()"
   ]
  },
  {
   "cell_type": "code",
   "execution_count": 126,
   "metadata": {},
   "outputs": [
    {
     "data": {
      "image/png": "[encoded data removed]",
      "text/plain": [
       "<Figure size 1500x1100 with 2 Axes>"
      ]
     },
     "metadata": {},
     "output_type": "display_data"
    }
   ],
   "source": [
    "mask = np.zeros_like(corr_matrix)\n",
    "mask[np.triu_indices_from(mask)] = True\n",
    "with sn.axes_style(\"white\"):\n",
    "    f, ax = plt.subplots(figsize=(15, 11))\n",
    "    ax = sn.heatmap(corr_matrix, mask=mask, vmax=1.0, vmin= -1.0, square=True, annot=True)\n",
    "    bottom, top = ax.get_ylim()\n",
    "    ax.set_ylim(bottom + 0.5, top - 0.5)\n",
    "    \n",
    "plt.show()"
   ]
  },
  {
   "cell_type": "markdown",
   "metadata": {},
   "source": [
    "### Load Twitter data"
   ]
  },
  {
   "cell_type": "code",
   "execution_count": 127,
   "metadata": {},
   "outputs": [],
   "source": [
    "df_tweet = pd.read_csv('BTC_tweets_cleaned.csv')"
   ]
  },
  {
   "cell_type": "code",
   "execution_count": 128,
   "metadata": {},
   "outputs": [
    {
     "data": {
      "text/html": [
       "<div>\n",
       "<style scoped>\n",
       "    .dataframe tbody tr th:only-of-type {\n",
       "        vertical-align: middle;\n",
       "    }\n",
       "\n",
       "    .dataframe tbody tr th {\n",
       "        vertical-align: top;\n",
       "    }\n",
       "\n",
       "    .dataframe thead th {\n",
       "        text-align: right;\n",
       "    }\n",
       "</style>\n",
       "<table border=\"1\" class=\"dataframe\">\n",
       "  <thead>\n",
       "    <tr style=\"text-align: right;\">\n",
       "      <th></th>\n",
       "      <th>year</th>\n",
       "      <th>month</th>\n",
       "      <th>day</th>\n",
       "      <th>day_of_week</th>\n",
       "      <th>text</th>\n",
       "      <th>timestamp</th>\n",
       "      <th>sentiment</th>\n",
       "    </tr>\n",
       "  </thead>\n",
       "  <tbody>\n",
       "    <tr>\n",
       "      <th>0</th>\n",
       "      <td>2023</td>\n",
       "      <td>6</td>\n",
       "      <td>1</td>\n",
       "      <td>3</td>\n",
       "      <td>555 unique drawn mutant primapes soon on netw...</td>\n",
       "      <td>2023-06-01T00:00:00Z</td>\n",
       "      <td>NEUTRAL</td>\n",
       "    </tr>\n",
       "    <tr>\n",
       "      <th>1</th>\n",
       "      <td>2023</td>\n",
       "      <td>6</td>\n",
       "      <td>1</td>\n",
       "      <td>3</td>\n",
       "      <td>bitcoin mining your path to digital fortune jo...</td>\n",
       "      <td>2023-06-01T00:00:00Z</td>\n",
       "      <td>NEUTRAL</td>\n",
       "    </tr>\n",
       "    <tr>\n",
       "      <th>2</th>\n",
       "      <td>2023</td>\n",
       "      <td>6</td>\n",
       "      <td>1</td>\n",
       "      <td>3</td>\n",
       "      <td>2 takip imize toplamda 1000 tl hediye ediyoru...</td>\n",
       "      <td>2023-06-01T00:00:00Z</td>\n",
       "      <td>NaN</td>\n",
       "    </tr>\n",
       "    <tr>\n",
       "      <th>3</th>\n",
       "      <td>2023</td>\n",
       "      <td>6</td>\n",
       "      <td>1</td>\n",
       "      <td>3</td>\n",
       "      <td>tether planeja minerar bitcoin no uruguaifique...</td>\n",
       "      <td>2023-06-01T00:00:00Z</td>\n",
       "      <td>NEUTRAL</td>\n",
       "    </tr>\n",
       "    <tr>\n",
       "      <th>4</th>\n",
       "      <td>2023</td>\n",
       "      <td>6</td>\n",
       "      <td>1</td>\n",
       "      <td>3</td>\n",
       "      <td>face screaming in fear hyped wl giveaway high...</td>\n",
       "      <td>2023-06-01T00:00:00Z</td>\n",
       "      <td>POSITIVE</td>\n",
       "    </tr>\n",
       "  </tbody>\n",
       "</table>\n",
       "</div>"
      ],
      "text/plain": [
       "   year  month  day  day_of_week  \\\n",
       "0  2023      6    1            3   \n",
       "1  2023      6    1            3   \n",
       "2  2023      6    1            3   \n",
       "3  2023      6    1            3   \n",
       "4  2023      6    1            3   \n",
       "\n",
       "                                                text             timestamp  \\\n",
       "0   555 unique drawn mutant primapes soon on netw...  2023-06-01T00:00:00Z   \n",
       "1  bitcoin mining your path to digital fortune jo...  2023-06-01T00:00:00Z   \n",
       "2   2 takip imize toplamda 1000 tl hediye ediyoru...  2023-06-01T00:00:00Z   \n",
       "3  tether planeja minerar bitcoin no uruguaifique...  2023-06-01T00:00:00Z   \n",
       "4   face screaming in fear hyped wl giveaway high...  2023-06-01T00:00:00Z   \n",
       "\n",
       "  sentiment  \n",
       "0   NEUTRAL  \n",
       "1   NEUTRAL  \n",
       "2       NaN  \n",
       "3   NEUTRAL  \n",
       "4  POSITIVE  "
      ]
     },
     "execution_count": 128,
     "metadata": {},
     "output_type": "execute_result"
    }
   ],
   "source": [
    "df_tweet.head()"
   ]
  },
  {
   "cell_type": "code",
   "execution_count": 129,
   "metadata": {},
   "outputs": [
    {
     "data": {
      "text/plain": [
       "0"
      ]
     },
     "execution_count": 129,
     "metadata": {},
     "output_type": "execute_result"
    }
   ],
   "source": [
    "pd.to_datetime(df_tweet.timestamp[0][:-1]).hour"
   ]
  },
  {
   "cell_type": "code",
   "execution_count": 130,
   "metadata": {},
   "outputs": [
    {
     "data": {
      "text/plain": [
       "(1576, 12)"
      ]
     },
     "execution_count": 130,
     "metadata": {},
     "output_type": "execute_result"
    }
   ],
   "source": [
    "df_tweet_senti = pd.get_dummies(df_tweet.sentiment, prefix='Sentiment')\n",
    "# df_tweet_senti.shape\n",
    "df_tweet = df_tweet.join(df_tweet_senti)\n",
    "df_tweet['hour'] = df_tweet['timestamp'].apply(lambda x: pd.to_datetime(x[:-1]).hour)\n",
    "df_tweet.shape\n"
   ]
  },
  {
   "cell_type": "code",
   "execution_count": 131,
   "metadata": {},
   "outputs": [
    {
     "data": {
      "text/html": [
       "<div>\n",
       "<style scoped>\n",
       "    .dataframe tbody tr th:only-of-type {\n",
       "        vertical-align: middle;\n",
       "    }\n",
       "\n",
       "    .dataframe tbody tr th {\n",
       "        vertical-align: top;\n",
       "    }\n",
       "\n",
       "    .dataframe thead th {\n",
       "        text-align: right;\n",
       "    }\n",
       "</style>\n",
       "<table border=\"1\" class=\"dataframe\">\n",
       "  <thead>\n",
       "    <tr style=\"text-align: right;\">\n",
       "      <th></th>\n",
       "      <th>year</th>\n",
       "      <th>month</th>\n",
       "      <th>day</th>\n",
       "      <th>Sentiment_NEGATIVE</th>\n",
       "      <th>Sentiment_NEUTRAL</th>\n",
       "      <th>Sentiment_POSITIVE</th>\n",
       "    </tr>\n",
       "  </thead>\n",
       "  <tbody>\n",
       "    <tr>\n",
       "      <th>0</th>\n",
       "      <td>2023</td>\n",
       "      <td>6</td>\n",
       "      <td>1</td>\n",
       "      <td>8</td>\n",
       "      <td>139</td>\n",
       "      <td>11</td>\n",
       "    </tr>\n",
       "    <tr>\n",
       "      <th>1</th>\n",
       "      <td>2023</td>\n",
       "      <td>6</td>\n",
       "      <td>2</td>\n",
       "      <td>4</td>\n",
       "      <td>144</td>\n",
       "      <td>11</td>\n",
       "    </tr>\n",
       "    <tr>\n",
       "      <th>2</th>\n",
       "      <td>2023</td>\n",
       "      <td>6</td>\n",
       "      <td>3</td>\n",
       "      <td>21</td>\n",
       "      <td>139</td>\n",
       "      <td>22</td>\n",
       "    </tr>\n",
       "    <tr>\n",
       "      <th>3</th>\n",
       "      <td>2023</td>\n",
       "      <td>6</td>\n",
       "      <td>4</td>\n",
       "      <td>25</td>\n",
       "      <td>156</td>\n",
       "      <td>27</td>\n",
       "    </tr>\n",
       "    <tr>\n",
       "      <th>4</th>\n",
       "      <td>2023</td>\n",
       "      <td>6</td>\n",
       "      <td>5</td>\n",
       "      <td>8</td>\n",
       "      <td>180</td>\n",
       "      <td>27</td>\n",
       "    </tr>\n",
       "  </tbody>\n",
       "</table>\n",
       "</div>"
      ],
      "text/plain": [
       "   year  month  day  Sentiment_NEGATIVE  Sentiment_NEUTRAL  Sentiment_POSITIVE\n",
       "0  2023      6    1                   8                139                  11\n",
       "1  2023      6    2                   4                144                  11\n",
       "2  2023      6    3                  21                139                  22\n",
       "3  2023      6    4                  25                156                  27\n",
       "4  2023      6    5                   8                180                  27"
      ]
     },
     "execution_count": 131,
     "metadata": {},
     "output_type": "execute_result"
    }
   ],
   "source": [
    "df_tweet_agg = df_tweet.groupby(['year','month','day']).agg({'Sentiment_NEGATIVE':'sum','Sentiment_NEUTRAL':'sum',\n",
    "                                                            'Sentiment_POSITIVE':'sum'}).reset_index()\n",
    "\n",
    "df_tweet_agg.head()"
   ]
  },
  {
   "cell_type": "code",
   "execution_count": 132,
   "metadata": {},
   "outputs": [
    {
     "data": {
      "text/plain": [
       "(7, 6)"
      ]
     },
     "execution_count": 132,
     "metadata": {},
     "output_type": "execute_result"
    }
   ],
   "source": [
    "df_tweet_agg.shape"
   ]
  },
  {
   "cell_type": "code",
   "execution_count": 134,
   "metadata": {},
   "outputs": [
    {
     "data": {
      "text/plain": [
       "(144, 26)"
      ]
     },
     "execution_count": 134,
     "metadata": {},
     "output_type": "execute_result"
    }
   ],
   "source": [
    "df_joined = pd.merge(df_BTC, df_tweet_agg, how='inner', on=['year','month','day'])\n",
    "\n",
    "df_joined.shape"
   ]
  },
  {
   "cell_type": "code",
   "execution_count": 135,
   "metadata": {},
   "outputs": [
    {
     "data": {
      "text/html": [
       "<div>\n",
       "<style scoped>\n",
       "    .dataframe tbody tr th:only-of-type {\n",
       "        vertical-align: middle;\n",
       "    }\n",
       "\n",
       "    .dataframe tbody tr th {\n",
       "        vertical-align: top;\n",
       "    }\n",
       "\n",
       "    .dataframe thead th {\n",
       "        text-align: right;\n",
       "    }\n",
       "</style>\n",
       "<table border=\"1\" class=\"dataframe\">\n",
       "  <thead>\n",
       "    <tr style=\"text-align: right;\">\n",
       "      <th></th>\n",
       "      <th>index</th>\n",
       "      <th>open_time</th>\n",
       "      <th>close_time</th>\n",
       "      <th>open</th>\n",
       "      <th>high</th>\n",
       "      <th>low</th>\n",
       "      <th>close</th>\n",
       "      <th>volume</th>\n",
       "      <th>quote_asset_volume</th>\n",
       "      <th>num_trades</th>\n",
       "      <th>...</th>\n",
       "      <th>datetime</th>\n",
       "      <th>year</th>\n",
       "      <th>month</th>\n",
       "      <th>day</th>\n",
       "      <th>day_of_week</th>\n",
       "      <th>hour</th>\n",
       "      <th>change_close</th>\n",
       "      <th>Sentiment_NEGATIVE</th>\n",
       "      <th>Sentiment_NEUTRAL</th>\n",
       "      <th>Sentiment_POSITIVE</th>\n",
       "    </tr>\n",
       "  </thead>\n",
       "  <tbody>\n",
       "    <tr>\n",
       "      <th>0</th>\n",
       "      <td>17650</td>\n",
       "      <td>06/01/2023, 00:00:00</td>\n",
       "      <td>06/01/2023, 00:59:59</td>\n",
       "      <td>27210.36</td>\n",
       "      <td>27350.00</td>\n",
       "      <td>27023.35</td>\n",
       "      <td>27065.77</td>\n",
       "      <td>2772.82443</td>\n",
       "      <td>7.541711e+07</td>\n",
       "      <td>57885</td>\n",
       "      <td>...</td>\n",
       "      <td>2023-06-01 00:59:59</td>\n",
       "      <td>2023</td>\n",
       "      <td>6</td>\n",
       "      <td>1</td>\n",
       "      <td>3</td>\n",
       "      <td>0</td>\n",
       "      <td>-144.58</td>\n",
       "      <td>8</td>\n",
       "      <td>139</td>\n",
       "      <td>11</td>\n",
       "    </tr>\n",
       "    <tr>\n",
       "      <th>1</th>\n",
       "      <td>17649</td>\n",
       "      <td>06/01/2023, 01:00:00</td>\n",
       "      <td>06/01/2023, 01:59:59</td>\n",
       "      <td>27065.76</td>\n",
       "      <td>27165.47</td>\n",
       "      <td>27059.74</td>\n",
       "      <td>27078.56</td>\n",
       "      <td>1785.47203</td>\n",
       "      <td>4.842438e+07</td>\n",
       "      <td>30859</td>\n",
       "      <td>...</td>\n",
       "      <td>2023-06-01 01:59:59</td>\n",
       "      <td>2023</td>\n",
       "      <td>6</td>\n",
       "      <td>1</td>\n",
       "      <td>3</td>\n",
       "      <td>1</td>\n",
       "      <td>12.79</td>\n",
       "      <td>8</td>\n",
       "      <td>139</td>\n",
       "      <td>11</td>\n",
       "    </tr>\n",
       "  </tbody>\n",
       "</table>\n",
       "<p>2 rows × 26 columns</p>\n",
       "</div>"
      ],
      "text/plain": [
       "   index             open_time            close_time      open      high  \\\n",
       "0  17650  06/01/2023, 00:00:00  06/01/2023, 00:59:59  27210.36  27350.00   \n",
       "1  17649  06/01/2023, 01:00:00  06/01/2023, 01:59:59  27065.76  27165.47   \n",
       "\n",
       "        low     close      volume  quote_asset_volume  num_trades  ...  \\\n",
       "0  27023.35  27065.77  2772.82443        7.541711e+07       57885  ...   \n",
       "1  27059.74  27078.56  1785.47203        4.842438e+07       30859  ...   \n",
       "\n",
       "             datetime  year  month  day day_of_week hour change_close  \\\n",
       "0 2023-06-01 00:59:59  2023      6    1           3    0      -144.58   \n",
       "1 2023-06-01 01:59:59  2023      6    1           3    1        12.79   \n",
       "\n",
       "   Sentiment_NEGATIVE  Sentiment_NEUTRAL  Sentiment_POSITIVE  \n",
       "0                   8                139                  11  \n",
       "1                   8                139                  11  \n",
       "\n",
       "[2 rows x 26 columns]"
      ]
     },
     "execution_count": 135,
     "metadata": {},
     "output_type": "execute_result"
    }
   ],
   "source": [
    "df_joined.head(2)"
   ]
  },
  {
   "cell_type": "code",
   "execution_count": 136,
   "metadata": {},
   "outputs": [],
   "source": [
    "#filter for the days twitter data is avialable\n",
    "# df_filter = df_joined[df_joined['datetime'] >= datetime.datetime(2023, 5, 20)]"
   ]
  },
  {
   "cell_type": "code",
   "execution_count": 137,
   "metadata": {},
   "outputs": [],
   "source": [
    "# df_filter.dtypes"
   ]
  },
  {
   "cell_type": "code",
   "execution_count": 138,
   "metadata": {},
   "outputs": [
    {
     "data": {
      "text/html": [
       "<div>\n",
       "<style scoped>\n",
       "    .dataframe tbody tr th:only-of-type {\n",
       "        vertical-align: middle;\n",
       "    }\n",
       "\n",
       "    .dataframe tbody tr th {\n",
       "        vertical-align: top;\n",
       "    }\n",
       "\n",
       "    .dataframe thead th {\n",
       "        text-align: right;\n",
       "    }\n",
       "</style>\n",
       "<table border=\"1\" class=\"dataframe\">\n",
       "  <thead>\n",
       "    <tr style=\"text-align: right;\">\n",
       "      <th></th>\n",
       "      <th>day</th>\n",
       "      <th>month</th>\n",
       "      <th>year</th>\n",
       "      <th>day_of_week</th>\n",
       "      <th>hour</th>\n",
       "      <th>open_time</th>\n",
       "      <th>close_time</th>\n",
       "      <th>open</th>\n",
       "      <th>high</th>\n",
       "      <th>low</th>\n",
       "      <th>...</th>\n",
       "      <th>volume</th>\n",
       "      <th>num_trades</th>\n",
       "      <th>open_timestamp</th>\n",
       "      <th>close_timestamp</th>\n",
       "      <th>datetime</th>\n",
       "      <th>Sentiment_NEGATIVE</th>\n",
       "      <th>Sentiment_NEUTRAL</th>\n",
       "      <th>Sentiment_POSITIVE</th>\n",
       "      <th>VolperTrade</th>\n",
       "      <th>change_close</th>\n",
       "    </tr>\n",
       "  </thead>\n",
       "  <tbody>\n",
       "    <tr>\n",
       "      <th>0</th>\n",
       "      <td>1</td>\n",
       "      <td>6</td>\n",
       "      <td>2023</td>\n",
       "      <td>3</td>\n",
       "      <td>0</td>\n",
       "      <td>06/01/2023, 00:00:00</td>\n",
       "      <td>06/01/2023, 00:59:59</td>\n",
       "      <td>27210.36</td>\n",
       "      <td>27350.00</td>\n",
       "      <td>27023.35</td>\n",
       "      <td>...</td>\n",
       "      <td>2772.82443</td>\n",
       "      <td>57885</td>\n",
       "      <td>1685577600000</td>\n",
       "      <td>1685581199999</td>\n",
       "      <td>2023-06-01 00:59:59</td>\n",
       "      <td>8.0</td>\n",
       "      <td>139.0</td>\n",
       "      <td>11.0</td>\n",
       "      <td>0.047902</td>\n",
       "      <td>NaN</td>\n",
       "    </tr>\n",
       "    <tr>\n",
       "      <th>1</th>\n",
       "      <td>1</td>\n",
       "      <td>6</td>\n",
       "      <td>2023</td>\n",
       "      <td>3</td>\n",
       "      <td>1</td>\n",
       "      <td>06/01/2023, 01:00:00</td>\n",
       "      <td>06/01/2023, 01:59:59</td>\n",
       "      <td>27065.76</td>\n",
       "      <td>27165.47</td>\n",
       "      <td>27059.74</td>\n",
       "      <td>...</td>\n",
       "      <td>1785.47203</td>\n",
       "      <td>30859</td>\n",
       "      <td>1685581200000</td>\n",
       "      <td>1685584799999</td>\n",
       "      <td>2023-06-01 01:59:59</td>\n",
       "      <td>8.0</td>\n",
       "      <td>139.0</td>\n",
       "      <td>11.0</td>\n",
       "      <td>0.057859</td>\n",
       "      <td>12.79</td>\n",
       "    </tr>\n",
       "    <tr>\n",
       "      <th>2</th>\n",
       "      <td>1</td>\n",
       "      <td>6</td>\n",
       "      <td>2023</td>\n",
       "      <td>3</td>\n",
       "      <td>2</td>\n",
       "      <td>06/01/2023, 02:00:00</td>\n",
       "      <td>06/01/2023, 02:59:59</td>\n",
       "      <td>27078.56</td>\n",
       "      <td>27114.16</td>\n",
       "      <td>26640.00</td>\n",
       "      <td>...</td>\n",
       "      <td>3775.37874</td>\n",
       "      <td>66445</td>\n",
       "      <td>1685584800000</td>\n",
       "      <td>1685588399999</td>\n",
       "      <td>2023-06-01 02:59:59</td>\n",
       "      <td>8.0</td>\n",
       "      <td>139.0</td>\n",
       "      <td>11.0</td>\n",
       "      <td>0.056820</td>\n",
       "      <td>-359.30</td>\n",
       "    </tr>\n",
       "    <tr>\n",
       "      <th>3</th>\n",
       "      <td>1</td>\n",
       "      <td>6</td>\n",
       "      <td>2023</td>\n",
       "      <td>3</td>\n",
       "      <td>3</td>\n",
       "      <td>06/01/2023, 03:00:00</td>\n",
       "      <td>06/01/2023, 03:59:59</td>\n",
       "      <td>26719.26</td>\n",
       "      <td>26838.89</td>\n",
       "      <td>26605.05</td>\n",
       "      <td>...</td>\n",
       "      <td>2879.51275</td>\n",
       "      <td>52426</td>\n",
       "      <td>1685588400000</td>\n",
       "      <td>1685591999999</td>\n",
       "      <td>2023-06-01 03:59:59</td>\n",
       "      <td>8.0</td>\n",
       "      <td>139.0</td>\n",
       "      <td>11.0</td>\n",
       "      <td>0.054925</td>\n",
       "      <td>60.68</td>\n",
       "    </tr>\n",
       "    <tr>\n",
       "      <th>4</th>\n",
       "      <td>1</td>\n",
       "      <td>6</td>\n",
       "      <td>2023</td>\n",
       "      <td>3</td>\n",
       "      <td>4</td>\n",
       "      <td>06/01/2023, 04:00:00</td>\n",
       "      <td>06/01/2023, 04:59:59</td>\n",
       "      <td>26779.93</td>\n",
       "      <td>26822.81</td>\n",
       "      <td>26746.00</td>\n",
       "      <td>...</td>\n",
       "      <td>1223.77081</td>\n",
       "      <td>24654</td>\n",
       "      <td>1685592000000</td>\n",
       "      <td>1685595599999</td>\n",
       "      <td>2023-06-01 04:59:59</td>\n",
       "      <td>8.0</td>\n",
       "      <td>139.0</td>\n",
       "      <td>11.0</td>\n",
       "      <td>0.049638</td>\n",
       "      <td>24.21</td>\n",
       "    </tr>\n",
       "  </tbody>\n",
       "</table>\n",
       "<p>5 rows × 21 columns</p>\n",
       "</div>"
      ],
      "text/plain": [
       "   day  month  year  day_of_week  hour             open_time  \\\n",
       "0    1      6  2023            3     0  06/01/2023, 00:00:00   \n",
       "1    1      6  2023            3     1  06/01/2023, 01:00:00   \n",
       "2    1      6  2023            3     2  06/01/2023, 02:00:00   \n",
       "3    1      6  2023            3     3  06/01/2023, 03:00:00   \n",
       "4    1      6  2023            3     4  06/01/2023, 04:00:00   \n",
       "\n",
       "             close_time      open      high       low  ...      volume  \\\n",
       "0  06/01/2023, 00:59:59  27210.36  27350.00  27023.35  ...  2772.82443   \n",
       "1  06/01/2023, 01:59:59  27065.76  27165.47  27059.74  ...  1785.47203   \n",
       "2  06/01/2023, 02:59:59  27078.56  27114.16  26640.00  ...  3775.37874   \n",
       "3  06/01/2023, 03:59:59  26719.26  26838.89  26605.05  ...  2879.51275   \n",
       "4  06/01/2023, 04:59:59  26779.93  26822.81  26746.00  ...  1223.77081   \n",
       "\n",
       "   num_trades  open_timestamp  close_timestamp            datetime  \\\n",
       "0       57885   1685577600000    1685581199999 2023-06-01 00:59:59   \n",
       "1       30859   1685581200000    1685584799999 2023-06-01 01:59:59   \n",
       "2       66445   1685584800000    1685588399999 2023-06-01 02:59:59   \n",
       "3       52426   1685588400000    1685591999999 2023-06-01 03:59:59   \n",
       "4       24654   1685592000000    1685595599999 2023-06-01 04:59:59   \n",
       "\n",
       "  Sentiment_NEGATIVE  Sentiment_NEUTRAL  Sentiment_POSITIVE  VolperTrade  \\\n",
       "0                8.0              139.0                11.0     0.047902   \n",
       "1                8.0              139.0                11.0     0.057859   \n",
       "2                8.0              139.0                11.0     0.056820   \n",
       "3                8.0              139.0                11.0     0.054925   \n",
       "4                8.0              139.0                11.0     0.049638   \n",
       "\n",
       "   change_close  \n",
       "0           NaN  \n",
       "1         12.79  \n",
       "2       -359.30  \n",
       "3         60.68  \n",
       "4         24.21  \n",
       "\n",
       "[5 rows x 21 columns]"
      ]
     },
     "execution_count": 138,
     "metadata": {},
     "output_type": "execute_result"
    }
   ],
   "source": [
    "#Aggregating the dataframe by day to find out any correlation between the tweets and the prices \n",
    "\n",
    "df_hourly = df_joined.groupby(['day','month','year','day_of_week','hour']).agg({'open_time':'min',\n",
    "                                                                         'close_time':'max',\n",
    "                                                                         'open':'first',\n",
    "                                                                         'high':'max',\n",
    "                                                                         'low':'min',\n",
    "                                                                         'close':'last',\n",
    "                                                                         'volume':'sum',\n",
    "                                                                         'num_trades':'sum',\n",
    "                                                                         'open_timestamp':'min',\n",
    "                                                                         'close_timestamp':'max',\n",
    "                                                                         'datetime':'max',\n",
    "                                                                         'Sentiment_NEGATIVE':'mean',\n",
    "                                                                         'Sentiment_NEUTRAL':'mean',\n",
    "                                                                         'Sentiment_POSITIVE':'mean'}).reset_index()\n",
    "\n",
    "\n",
    "df_hourly['VolperTrade'] = df_hourly['volume']/df_hourly['num_trades']\n",
    "df_hourly['change_close'] = - (df_hourly['close'].shift(1) - df_hourly['close'])\n",
    "df_hourly.head()\n"
   ]
  },
  {
   "cell_type": "code",
   "execution_count": 139,
   "metadata": {},
   "outputs": [
    {
     "data": {
      "text/plain": [
       "Index(['day', 'month', 'year', 'day_of_week', 'hour', 'open_time',\n",
       "       'close_time', 'open', 'high', 'low', 'close', 'volume', 'num_trades',\n",
       "       'open_timestamp', 'close_timestamp', 'datetime', 'Sentiment_NEGATIVE',\n",
       "       'Sentiment_NEUTRAL', 'Sentiment_POSITIVE', 'VolperTrade',\n",
       "       'change_close'],\n",
       "      dtype='object')"
      ]
     },
     "execution_count": 139,
     "metadata": {},
     "output_type": "execute_result"
    }
   ],
   "source": [
    "df_hourly.columns"
   ]
  },
  {
   "cell_type": "code",
   "execution_count": 140,
   "metadata": {},
   "outputs": [
    {
     "data": {
      "image/png": "[encoded data removed]",
      "text/plain": [
       "<Figure size 1200x900 with 2 Axes>"
      ]
     },
     "metadata": {},
     "output_type": "display_data"
    }
   ],
   "source": [
    "corr = df_hourly[['day_of_week', 'hour', 'open_time', 'close_time',\n",
    "               'open', 'high', 'low', 'close', 'volume', 'num_trades',\n",
    "               'open_timestamp', 'close_timestamp', 'Sentiment_NEGATIVE',\n",
    "               'Sentiment_NEUTRAL', 'Sentiment_POSITIVE', 'VolperTrade', 'change_close']].corr()\n",
    "mask = np.zeros_like(corr)\n",
    "mask[np.triu_indices_from(mask)] = True\n",
    "with sn.axes_style(\"white\"):\n",
    "    f, ax = plt.subplots(figsize=(12, 9))\n",
    "    ax = sn.heatmap(corr, mask=mask, vmax=1.0, vmin= -1.0, square=True, annot=True)\n",
    "    bottom, top = ax.get_ylim()\n",
    "    ax.set_ylim(bottom + 0.5, top - 0.5)\n",
    "    \n",
    "plt.show()"
   ]
  },
  {
   "cell_type": "code",
   "execution_count": 141,
   "metadata": {},
   "outputs": [
    {
     "data": {
      "text/html": [
       "<div>\n",
       "<style scoped>\n",
       "    .dataframe tbody tr th:only-of-type {\n",
       "        vertical-align: middle;\n",
       "    }\n",
       "\n",
       "    .dataframe tbody tr th {\n",
       "        vertical-align: top;\n",
       "    }\n",
       "\n",
       "    .dataframe thead th {\n",
       "        text-align: right;\n",
       "    }\n",
       "</style>\n",
       "<table border=\"1\" class=\"dataframe\">\n",
       "  <thead>\n",
       "    <tr style=\"text-align: right;\">\n",
       "      <th></th>\n",
       "      <th>day</th>\n",
       "      <th>month</th>\n",
       "      <th>year</th>\n",
       "      <th>day_of_week</th>\n",
       "      <th>hour</th>\n",
       "      <th>open_time</th>\n",
       "      <th>close_time</th>\n",
       "      <th>open</th>\n",
       "      <th>high</th>\n",
       "      <th>low</th>\n",
       "      <th>...</th>\n",
       "      <th>volume</th>\n",
       "      <th>num_trades</th>\n",
       "      <th>open_timestamp</th>\n",
       "      <th>close_timestamp</th>\n",
       "      <th>datetime</th>\n",
       "      <th>Sentiment_NEGATIVE</th>\n",
       "      <th>Sentiment_NEUTRAL</th>\n",
       "      <th>Sentiment_POSITIVE</th>\n",
       "      <th>VolperTrade</th>\n",
       "      <th>change_close</th>\n",
       "    </tr>\n",
       "  </thead>\n",
       "  <tbody>\n",
       "    <tr>\n",
       "      <th>0</th>\n",
       "      <td>1</td>\n",
       "      <td>6</td>\n",
       "      <td>2023</td>\n",
       "      <td>3</td>\n",
       "      <td>0</td>\n",
       "      <td>06/01/2023, 00:00:00</td>\n",
       "      <td>06/01/2023, 00:59:59</td>\n",
       "      <td>27210.36</td>\n",
       "      <td>27350.00</td>\n",
       "      <td>27023.35</td>\n",
       "      <td>...</td>\n",
       "      <td>2772.82443</td>\n",
       "      <td>57885</td>\n",
       "      <td>1685577600000</td>\n",
       "      <td>1685581199999</td>\n",
       "      <td>2023-06-01 00:59:59</td>\n",
       "      <td>8.0</td>\n",
       "      <td>139.0</td>\n",
       "      <td>11.0</td>\n",
       "      <td>0.047902</td>\n",
       "      <td>NaN</td>\n",
       "    </tr>\n",
       "    <tr>\n",
       "      <th>1</th>\n",
       "      <td>1</td>\n",
       "      <td>6</td>\n",
       "      <td>2023</td>\n",
       "      <td>3</td>\n",
       "      <td>1</td>\n",
       "      <td>06/01/2023, 01:00:00</td>\n",
       "      <td>06/01/2023, 01:59:59</td>\n",
       "      <td>27065.76</td>\n",
       "      <td>27165.47</td>\n",
       "      <td>27059.74</td>\n",
       "      <td>...</td>\n",
       "      <td>1785.47203</td>\n",
       "      <td>30859</td>\n",
       "      <td>1685581200000</td>\n",
       "      <td>1685584799999</td>\n",
       "      <td>2023-06-01 01:59:59</td>\n",
       "      <td>8.0</td>\n",
       "      <td>139.0</td>\n",
       "      <td>11.0</td>\n",
       "      <td>0.057859</td>\n",
       "      <td>12.79</td>\n",
       "    </tr>\n",
       "    <tr>\n",
       "      <th>2</th>\n",
       "      <td>1</td>\n",
       "      <td>6</td>\n",
       "      <td>2023</td>\n",
       "      <td>3</td>\n",
       "      <td>2</td>\n",
       "      <td>06/01/2023, 02:00:00</td>\n",
       "      <td>06/01/2023, 02:59:59</td>\n",
       "      <td>27078.56</td>\n",
       "      <td>27114.16</td>\n",
       "      <td>26640.00</td>\n",
       "      <td>...</td>\n",
       "      <td>3775.37874</td>\n",
       "      <td>66445</td>\n",
       "      <td>1685584800000</td>\n",
       "      <td>1685588399999</td>\n",
       "      <td>2023-06-01 02:59:59</td>\n",
       "      <td>8.0</td>\n",
       "      <td>139.0</td>\n",
       "      <td>11.0</td>\n",
       "      <td>0.056820</td>\n",
       "      <td>-359.30</td>\n",
       "    </tr>\n",
       "    <tr>\n",
       "      <th>3</th>\n",
       "      <td>1</td>\n",
       "      <td>6</td>\n",
       "      <td>2023</td>\n",
       "      <td>3</td>\n",
       "      <td>3</td>\n",
       "      <td>06/01/2023, 03:00:00</td>\n",
       "      <td>06/01/2023, 03:59:59</td>\n",
       "      <td>26719.26</td>\n",
       "      <td>26838.89</td>\n",
       "      <td>26605.05</td>\n",
       "      <td>...</td>\n",
       "      <td>2879.51275</td>\n",
       "      <td>52426</td>\n",
       "      <td>1685588400000</td>\n",
       "      <td>1685591999999</td>\n",
       "      <td>2023-06-01 03:59:59</td>\n",
       "      <td>8.0</td>\n",
       "      <td>139.0</td>\n",
       "      <td>11.0</td>\n",
       "      <td>0.054925</td>\n",
       "      <td>60.68</td>\n",
       "    </tr>\n",
       "    <tr>\n",
       "      <th>4</th>\n",
       "      <td>1</td>\n",
       "      <td>6</td>\n",
       "      <td>2023</td>\n",
       "      <td>3</td>\n",
       "      <td>4</td>\n",
       "      <td>06/01/2023, 04:00:00</td>\n",
       "      <td>06/01/2023, 04:59:59</td>\n",
       "      <td>26779.93</td>\n",
       "      <td>26822.81</td>\n",
       "      <td>26746.00</td>\n",
       "      <td>...</td>\n",
       "      <td>1223.77081</td>\n",
       "      <td>24654</td>\n",
       "      <td>1685592000000</td>\n",
       "      <td>1685595599999</td>\n",
       "      <td>2023-06-01 04:59:59</td>\n",
       "      <td>8.0</td>\n",
       "      <td>139.0</td>\n",
       "      <td>11.0</td>\n",
       "      <td>0.049638</td>\n",
       "      <td>24.21</td>\n",
       "    </tr>\n",
       "  </tbody>\n",
       "</table>\n",
       "<p>5 rows × 21 columns</p>\n",
       "</div>"
      ],
      "text/plain": [
       "   day  month  year  day_of_week  hour             open_time  \\\n",
       "0    1      6  2023            3     0  06/01/2023, 00:00:00   \n",
       "1    1      6  2023            3     1  06/01/2023, 01:00:00   \n",
       "2    1      6  2023            3     2  06/01/2023, 02:00:00   \n",
       "3    1      6  2023            3     3  06/01/2023, 03:00:00   \n",
       "4    1      6  2023            3     4  06/01/2023, 04:00:00   \n",
       "\n",
       "             close_time      open      high       low  ...      volume  \\\n",
       "0  06/01/2023, 00:59:59  27210.36  27350.00  27023.35  ...  2772.82443   \n",
       "1  06/01/2023, 01:59:59  27065.76  27165.47  27059.74  ...  1785.47203   \n",
       "2  06/01/2023, 02:59:59  27078.56  27114.16  26640.00  ...  3775.37874   \n",
       "3  06/01/2023, 03:59:59  26719.26  26838.89  26605.05  ...  2879.51275   \n",
       "4  06/01/2023, 04:59:59  26779.93  26822.81  26746.00  ...  1223.77081   \n",
       "\n",
       "   num_trades  open_timestamp  close_timestamp            datetime  \\\n",
       "0       57885   1685577600000    1685581199999 2023-06-01 00:59:59   \n",
       "1       30859   1685581200000    1685584799999 2023-06-01 01:59:59   \n",
       "2       66445   1685584800000    1685588399999 2023-06-01 02:59:59   \n",
       "3       52426   1685588400000    1685591999999 2023-06-01 03:59:59   \n",
       "4       24654   1685592000000    1685595599999 2023-06-01 04:59:59   \n",
       "\n",
       "  Sentiment_NEGATIVE  Sentiment_NEUTRAL  Sentiment_POSITIVE  VolperTrade  \\\n",
       "0                8.0              139.0                11.0     0.047902   \n",
       "1                8.0              139.0                11.0     0.057859   \n",
       "2                8.0              139.0                11.0     0.056820   \n",
       "3                8.0              139.0                11.0     0.054925   \n",
       "4                8.0              139.0                11.0     0.049638   \n",
       "\n",
       "   change_close  \n",
       "0           NaN  \n",
       "1         12.79  \n",
       "2       -359.30  \n",
       "3         60.68  \n",
       "4         24.21  \n",
       "\n",
       "[5 rows x 21 columns]"
      ]
     },
     "execution_count": 141,
     "metadata": {},
     "output_type": "execute_result"
    }
   ],
   "source": [
    "df_hourly.head()"
   ]
  },
  {
   "cell_type": "code",
   "execution_count": 142,
   "metadata": {},
   "outputs": [],
   "source": [
    "### Plot"
   ]
  },
  {
   "cell_type": "code",
   "execution_count": 143,
   "metadata": {},
   "outputs": [
    {
     "data": {
      "application/vnd.plotly.v1+json": {
       "config": {
        "plotlyServerURL": "https://plot.ly"
       },
       "data": [
        {
         "hovertemplate": "variable=change_close<br>datetime=%{x}<br>value=%{y}<extra></extra>",
         "legendgroup": "change_close",
         "line": {
          "color": "#636efa",
          "dash": "solid"
         },
         "marker": {
          "symbol": "circle"
         },
         "mode": "lines",
         "name": "Change in Close price",
         "orientation": "v",
         "showlegend": true,
         "type": "scatter",
         "x": [
          "2023-06-01T00:59:59",
          "2023-06-01T01:59:59",
          "2023-06-01T02:59:59",
          "2023-06-01T03:59:59",
          "2023-06-01T04:59:59",
          "2023-06-01T05:59:59",
          "2023-06-01T06:59:59",
          "2023-06-01T07:59:59",
          "2023-06-01T08:59:59",
          "2023-06-01T09:59:59",
          "2023-06-01T10:59:59",
          "2023-06-01T11:59:59",
          "2023-06-01T12:59:59",
          "2023-06-01T13:59:59",
          "2023-06-01T14:59:59",
          "2023-06-01T15:59:59",
          "2023-06-01T16:59:59",
          "2023-06-01T17:59:59",
          "2023-06-01T18:59:59",
          "2023-06-01T19:59:59",
          "2023-06-01T20:59:59",
          "2023-06-01T21:59:59",
          "2023-06-01T22:59:59",
          "2023-06-01T23:59:59",
          "2023-06-02T00:59:59",
          "2023-06-02T01:59:59",
          "2023-06-02T02:59:59",
          "2023-06-02T03:59:59",
          "2023-06-02T04:59:59",
          "2023-06-02T05:59:59",
          "2023-06-02T06:59:59",
          "2023-06-02T07:59:59",
          "2023-06-02T08:59:59",
          "2023-06-02T09:59:59",
          "2023-06-02T10:59:59",
          "2023-06-02T11:59:59",
          "2023-06-02T12:59:59",
          "2023-06-02T13:59:59",
          "2023-06-02T14:59:59",
          "2023-06-02T15:59:59",
          "2023-06-02T16:59:59",
          "2023-06-02T17:59:59",
          "2023-06-02T18:59:59",
          "2023-06-02T19:59:59",
          "2023-06-02T20:59:59",
          "2023-06-02T21:59:59",
          "2023-06-02T22:59:59",
          "2023-06-02T23:59:59",
          "2023-06-03T00:59:59",
          "2023-06-03T01:59:59",
          "2023-06-03T02:59:59",
          "2023-06-03T03:59:59",
          "2023-06-03T04:59:59",
          "2023-06-03T05:59:59",
          "2023-06-03T06:59:59",
          "2023-06-03T07:59:59",
          "2023-06-03T08:59:59",
          "2023-06-03T09:59:59",
          "2023-06-03T10:59:59",
          "2023-06-03T11:59:59",
          "2023-06-03T12:59:59",
          "2023-06-03T13:59:59",
          "2023-06-03T14:59:59",
          "2023-06-03T15:59:59",
          "2023-06-03T16:59:59",
          "2023-06-03T17:59:59",
          "2023-06-03T18:59:59",
          "2023-06-03T19:59:59",
          "2023-06-03T20:59:59",
          "2023-06-03T21:59:59",
          "2023-06-03T22:59:59",
          "2023-06-03T23:59:59",
          "2023-06-04T00:59:59",
          "2023-06-04T01:59:59",
          "2023-06-04T02:59:59",
          "2023-06-04T03:59:59",
          "2023-06-04T04:59:59",
          "2023-06-04T05:59:59",
          "2023-06-04T06:59:59",
          "2023-06-04T07:59:59",
          "2023-06-04T08:59:59",
          "2023-06-04T09:59:59",
          "2023-06-04T10:59:59",
          "2023-06-04T11:59:59",
          "2023-06-04T12:59:59",
          "2023-06-04T13:59:59",
          "2023-06-04T14:59:59",
          "2023-06-04T15:59:59",
          "2023-06-04T16:59:59",
          "2023-06-04T17:59:59",
          "2023-06-04T18:59:59",
          "2023-06-04T19:59:59",
          "2023-06-04T20:59:59",
          "2023-06-04T21:59:59",
          "2023-06-04T22:59:59",
          "2023-06-04T23:59:59",
          "2023-06-05T00:59:59",
          "2023-06-05T01:59:59",
          "2023-06-05T02:59:59",
          "2023-06-05T03:59:59",
          "2023-06-05T04:59:59",
          "2023-06-05T05:59:59",
          "2023-06-05T06:59:59",
          "2023-06-05T07:59:59",
          "2023-06-05T08:59:59",
          "2023-06-05T09:59:59",
          "2023-06-05T10:59:59",
          "2023-06-05T11:59:59",
          "2023-06-05T12:59:59",
          "2023-06-05T13:59:59",
          "2023-06-05T14:59:59",
          "2023-06-05T15:59:59",
          "2023-06-05T16:59:59",
          "2023-06-05T17:59:59",
          "2023-06-05T18:59:59",
          "2023-06-05T19:59:59",
          "2023-06-05T20:59:59",
          "2023-06-05T21:59:59",
          "2023-06-05T22:59:59",
          "2023-06-05T23:59:59",
          "2023-06-06T00:59:59",
          "2023-06-06T01:59:59",
          "2023-06-06T02:59:59",
          "2023-06-06T03:59:59",
          "2023-06-06T04:59:59",
          "2023-06-06T05:59:59",
          "2023-06-06T06:59:59",
          "2023-06-06T07:59:59",
          "2023-06-06T08:59:59",
          "2023-06-06T09:59:59",
          "2023-06-06T10:59:59",
          "2023-06-06T11:59:59",
          "2023-06-06T12:59:59",
          "2023-06-06T13:59:59",
          "2023-06-06T14:59:59",
          "2023-06-06T15:59:59",
          "2023-06-06T16:59:59",
          "2023-06-06T17:59:59",
          "2023-06-06T18:59:59",
          "2023-06-06T19:59:59",
          "2023-06-06T20:59:59",
          "2023-06-06T21:59:59",
          "2023-06-06T22:59:59",
          "2023-06-06T23:59:59"
         ],
         "xaxis": "x",
         "y": [
          null,
          12.790000000000873,
          -359.3000000000029,
          60.68000000000029,
          24.210000000002765,
          45.04999999999927,
          -64.06999999999971,
          17.539999999997235,
          109.86000000000058,
          -3.899999999997817,
          -48.63000000000102,
          32.95999999999913,
          48.830000000001746,
          -50.04999999999927,
          6.3400000000001455,
          -3.600000000002183,
          197.60000000000218,
          -135.14000000000306,
          7.830000000001746,
          -102.09000000000015,
          0.31999999999970896,
          26.840000000000146,
          -8.869999999998981,
          -63.04000000000087,
          -31.900000000001455,
          25.87000000000262,
          148.10999999999694,
          39.9900000000016,
          68.27000000000044,
          84.32999999999811,
          -81.53999999999724,
          -21.409999999999854,
          116.48999999999796,
          -85.45999999999913,
          16.31000000000131,
          33.7599999999984,
          -35.330000000001746,
          -186.5799999999981,
          55.900000000001455,
          131.17999999999665,
          -39.859999999996944,
          1.5200000000004366,
          135.0199999999968,
          46.42000000000189,
          -66.18000000000029,
          34.56000000000131,
          55.5199999999968,
          -20.32999999999811,
          -77.5,
          -34.68999999999869,
          22.859999999996944,
          -10.059999999997672,
          17.040000000000873,
          -3.040000000000873,
          25.149999999997817,
          -7.930000000000291,
          -27.799999999999272,
          4.889999999999418,
          -11.5099999999984,
          -10.209999999999127,
          36.02000000000044,
          1.1699999999982538,
          4.260000000002037,
          134.0199999999968,
          -56.779999999998836,
          -87.57999999999811,
          -13.470000000001164,
          -51.06999999999971,
          -34.029999999998836,
          -57.92000000000189,
          67.13999999999942,
          -2.3299999999981083,
          -64.09000000000015,
          35.89999999999782,
          50.2400000000016,
          -29.889999999999418,
          -6.430000000000291,
          -16.31999999999971,
          89.14999999999782,
          22.67000000000189,
          0.36999999999898137,
          65.06999999999971,
          5.1599999999998545,
          -22.5,
          11.549999999999272,
          35.36000000000058,
          -11.2599999999984,
          -55.20000000000073,
          -8.340000000000146,
          6.099999999998545,
          17.42000000000189,
          18.93000000000029,
          28.399999999997817,
          -46.93999999999869,
          39.4900000000016,
          -118.85000000000218,
          -90.45000000000073,
          22.38000000000102,
          -124.43000000000029,
          -79.12999999999738,
          -6.580000000001746,
          -20.299999999999272,
          -51.36000000000058,
          64.65000000000146,
          -31.350000000002183,
          -21.649999999997817,
          -60.19000000000233,
          56.590000000000146,
          -82.63000000000102,
          37.88000000000102,
          73.56999999999971,
          -794.6800000000003,
          -198.47999999999956,
          -52.77000000000044,
          -191.84999999999854,
          65.56000000000131,
          1.1699999999982538,
          27.18999999999869,
          52.38000000000102,
          17.470000000001164,
          -37.31000000000131,
          -50.88000000000102,
          124.75,
          -33.92999999999665,
          66.81999999999971,
          -27.700000000000728,
          -3.7400000000016007,
          -43.87999999999738,
          -14.530000000002474,
          42.95999999999913,
          -8.399999999997817,
          -55.720000000001164,
          -153.22999999999956,
          201.79000000000087,
          289.52999999999884,
          41.38000000000102,
          303.880000000001,
          299.16999999999825,
          28.92000000000189,
          382.0499999999993,
          -135.15000000000146,
          112.04999999999927,
          95.62000000000262,
          77.43000000000029
         ],
         "yaxis": "y"
        },
        {
         "hovertemplate": "variable=Sentiment_POSITIVE<br>datetime=%{x}<br>value=%{y}<extra></extra>",
         "legendgroup": "Sentiment_POSITIVE",
         "line": {
          "color": "#EF553B",
          "dash": "solid"
         },
         "marker": {
          "symbol": "circle"
         },
         "mode": "lines",
         "name": "Positive Sentiment",
         "orientation": "v",
         "showlegend": true,
         "type": "scatter",
         "x": [
          "2023-06-01T00:59:59",
          "2023-06-01T01:59:59",
          "2023-06-01T02:59:59",
          "2023-06-01T03:59:59",
          "2023-06-01T04:59:59",
          "2023-06-01T05:59:59",
          "2023-06-01T06:59:59",
          "2023-06-01T07:59:59",
          "2023-06-01T08:59:59",
          "2023-06-01T09:59:59",
          "2023-06-01T10:59:59",
          "2023-06-01T11:59:59",
          "2023-06-01T12:59:59",
          "2023-06-01T13:59:59",
          "2023-06-01T14:59:59",
          "2023-06-01T15:59:59",
          "2023-06-01T16:59:59",
          "2023-06-01T17:59:59",
          "2023-06-01T18:59:59",
          "2023-06-01T19:59:59",
          "2023-06-01T20:59:59",
          "2023-06-01T21:59:59",
          "2023-06-01T22:59:59",
          "2023-06-01T23:59:59",
          "2023-06-02T00:59:59",
          "2023-06-02T01:59:59",
          "2023-06-02T02:59:59",
          "2023-06-02T03:59:59",
          "2023-06-02T04:59:59",
          "2023-06-02T05:59:59",
          "2023-06-02T06:59:59",
          "2023-06-02T07:59:59",
          "2023-06-02T08:59:59",
          "2023-06-02T09:59:59",
          "2023-06-02T10:59:59",
          "2023-06-02T11:59:59",
          "2023-06-02T12:59:59",
          "2023-06-02T13:59:59",
          "2023-06-02T14:59:59",
          "2023-06-02T15:59:59",
          "2023-06-02T16:59:59",
          "2023-06-02T17:59:59",
          "2023-06-02T18:59:59",
          "2023-06-02T19:59:59",
          "2023-06-02T20:59:59",
          "2023-06-02T21:59:59",
          "2023-06-02T22:59:59",
          "2023-06-02T23:59:59",
          "2023-06-03T00:59:59",
          "2023-06-03T01:59:59",
          "2023-06-03T02:59:59",
          "2023-06-03T03:59:59",
          "2023-06-03T04:59:59",
          "2023-06-03T05:59:59",
          "2023-06-03T06:59:59",
          "2023-06-03T07:59:59",
          "2023-06-03T08:59:59",
          "2023-06-03T09:59:59",
          "2023-06-03T10:59:59",
          "2023-06-03T11:59:59",
          "2023-06-03T12:59:59",
          "2023-06-03T13:59:59",
          "2023-06-03T14:59:59",
          "2023-06-03T15:59:59",
          "2023-06-03T16:59:59",
          "2023-06-03T17:59:59",
          "2023-06-03T18:59:59",
          "2023-06-03T19:59:59",
          "2023-06-03T20:59:59",
          "2023-06-03T21:59:59",
          "2023-06-03T22:59:59",
          "2023-06-03T23:59:59",
          "2023-06-04T00:59:59",
          "2023-06-04T01:59:59",
          "2023-06-04T02:59:59",
          "2023-06-04T03:59:59",
          "2023-06-04T04:59:59",
          "2023-06-04T05:59:59",
          "2023-06-04T06:59:59",
          "2023-06-04T07:59:59",
          "2023-06-04T08:59:59",
          "2023-06-04T09:59:59",
          "2023-06-04T10:59:59",
          "2023-06-04T11:59:59",
          "2023-06-04T12:59:59",
          "2023-06-04T13:59:59",
          "2023-06-04T14:59:59",
          "2023-06-04T15:59:59",
          "2023-06-04T16:59:59",
          "2023-06-04T17:59:59",
          "2023-06-04T18:59:59",
          "2023-06-04T19:59:59",
          "2023-06-04T20:59:59",
          "2023-06-04T21:59:59",
          "2023-06-04T22:59:59",
          "2023-06-04T23:59:59",
          "2023-06-05T00:59:59",
          "2023-06-05T01:59:59",
          "2023-06-05T02:59:59",
          "2023-06-05T03:59:59",
          "2023-06-05T04:59:59",
          "2023-06-05T05:59:59",
          "2023-06-05T06:59:59",
          "2023-06-05T07:59:59",
          "2023-06-05T08:59:59",
          "2023-06-05T09:59:59",
          "2023-06-05T10:59:59",
          "2023-06-05T11:59:59",
          "2023-06-05T12:59:59",
          "2023-06-05T13:59:59",
          "2023-06-05T14:59:59",
          "2023-06-05T15:59:59",
          "2023-06-05T16:59:59",
          "2023-06-05T17:59:59",
          "2023-06-05T18:59:59",
          "2023-06-05T19:59:59",
          "2023-06-05T20:59:59",
          "2023-06-05T21:59:59",
          "2023-06-05T22:59:59",
          "2023-06-05T23:59:59",
          "2023-06-06T00:59:59",
          "2023-06-06T01:59:59",
          "2023-06-06T02:59:59",
          "2023-06-06T03:59:59",
          "2023-06-06T04:59:59",
          "2023-06-06T05:59:59",
          "2023-06-06T06:59:59",
          "2023-06-06T07:59:59",
          "2023-06-06T08:59:59",
          "2023-06-06T09:59:59",
          "2023-06-06T10:59:59",
          "2023-06-06T11:59:59",
          "2023-06-06T12:59:59",
          "2023-06-06T13:59:59",
          "2023-06-06T14:59:59",
          "2023-06-06T15:59:59",
          "2023-06-06T16:59:59",
          "2023-06-06T17:59:59",
          "2023-06-06T18:59:59",
          "2023-06-06T19:59:59",
          "2023-06-06T20:59:59",
          "2023-06-06T21:59:59",
          "2023-06-06T22:59:59",
          "2023-06-06T23:59:59"
         ],
         "xaxis": "x",
         "y": [
          11,
          11,
          11,
          11,
          11,
          11,
          11,
          11,
          11,
          11,
          11,
          11,
          11,
          11,
          11,
          11,
          11,
          11,
          11,
          11,
          11,
          11,
          11,
          11,
          11,
          11,
          11,
          11,
          11,
          11,
          11,
          11,
          11,
          11,
          11,
          11,
          11,
          11,
          11,
          11,
          11,
          11,
          11,
          11,
          11,
          11,
          11,
          11,
          22,
          22,
          22,
          22,
          22,
          22,
          22,
          22,
          22,
          22,
          22,
          22,
          22,
          22,
          22,
          22,
          22,
          22,
          22,
          22,
          22,
          22,
          22,
          22,
          27,
          27,
          27,
          27,
          27,
          27,
          27,
          27,
          27,
          27,
          27,
          27,
          27,
          27,
          27,
          27,
          27,
          27,
          27,
          27,
          27,
          27,
          27,
          27,
          27,
          27,
          27,
          27,
          27,
          27,
          27,
          27,
          27,
          27,
          27,
          27,
          27,
          27,
          27,
          27,
          27,
          27,
          27,
          27,
          27,
          27,
          27,
          27,
          20,
          20,
          20,
          20,
          20,
          20,
          20,
          20,
          20,
          20,
          20,
          20,
          20,
          20,
          20,
          20,
          20,
          20,
          20,
          20,
          20,
          20,
          20,
          20
         ],
         "yaxis": "y"
        },
        {
         "hovertemplate": "variable=Sentiment_NEUTRAL<br>datetime=%{x}<br>value=%{y}<extra></extra>",
         "legendgroup": "Sentiment_NEUTRAL",
         "line": {
          "color": "#00cc96",
          "dash": "solid"
         },
         "marker": {
          "symbol": "circle"
         },
         "mode": "lines",
         "name": "Neutral Sentiment",
         "orientation": "v",
         "showlegend": true,
         "type": "scatter",
         "x": [
          "2023-06-01T00:59:59",
          "2023-06-01T01:59:59",
          "2023-06-01T02:59:59",
          "2023-06-01T03:59:59",
          "2023-06-01T04:59:59",
          "2023-06-01T05:59:59",
          "2023-06-01T06:59:59",
          "2023-06-01T07:59:59",
          "2023-06-01T08:59:59",
          "2023-06-01T09:59:59",
          "2023-06-01T10:59:59",
          "2023-06-01T11:59:59",
          "2023-06-01T12:59:59",
          "2023-06-01T13:59:59",
          "2023-06-01T14:59:59",
          "2023-06-01T15:59:59",
          "2023-06-01T16:59:59",
          "2023-06-01T17:59:59",
          "2023-06-01T18:59:59",
          "2023-06-01T19:59:59",
          "2023-06-01T20:59:59",
          "2023-06-01T21:59:59",
          "2023-06-01T22:59:59",
          "2023-06-01T23:59:59",
          "2023-06-02T00:59:59",
          "2023-06-02T01:59:59",
          "2023-06-02T02:59:59",
          "2023-06-02T03:59:59",
          "2023-06-02T04:59:59",
          "2023-06-02T05:59:59",
          "2023-06-02T06:59:59",
          "2023-06-02T07:59:59",
          "2023-06-02T08:59:59",
          "2023-06-02T09:59:59",
          "2023-06-02T10:59:59",
          "2023-06-02T11:59:59",
          "2023-06-02T12:59:59",
          "2023-06-02T13:59:59",
          "2023-06-02T14:59:59",
          "2023-06-02T15:59:59",
          "2023-06-02T16:59:59",
          "2023-06-02T17:59:59",
          "2023-06-02T18:59:59",
          "2023-06-02T19:59:59",
          "2023-06-02T20:59:59",
          "2023-06-02T21:59:59",
          "2023-06-02T22:59:59",
          "2023-06-02T23:59:59",
          "2023-06-03T00:59:59",
          "2023-06-03T01:59:59",
          "2023-06-03T02:59:59",
          "2023-06-03T03:59:59",
          "2023-06-03T04:59:59",
          "2023-06-03T05:59:59",
          "2023-06-03T06:59:59",
          "2023-06-03T07:59:59",
          "2023-06-03T08:59:59",
          "2023-06-03T09:59:59",
          "2023-06-03T10:59:59",
          "2023-06-03T11:59:59",
          "2023-06-03T12:59:59",
          "2023-06-03T13:59:59",
          "2023-06-03T14:59:59",
          "2023-06-03T15:59:59",
          "2023-06-03T16:59:59",
          "2023-06-03T17:59:59",
          "2023-06-03T18:59:59",
          "2023-06-03T19:59:59",
          "2023-06-03T20:59:59",
          "2023-06-03T21:59:59",
          "2023-06-03T22:59:59",
          "2023-06-03T23:59:59",
          "2023-06-04T00:59:59",
          "2023-06-04T01:59:59",
          "2023-06-04T02:59:59",
          "2023-06-04T03:59:59",
          "2023-06-04T04:59:59",
          "2023-06-04T05:59:59",
          "2023-06-04T06:59:59",
          "2023-06-04T07:59:59",
          "2023-06-04T08:59:59",
          "2023-06-04T09:59:59",
          "2023-06-04T10:59:59",
          "2023-06-04T11:59:59",
          "2023-06-04T12:59:59",
          "2023-06-04T13:59:59",
          "2023-06-04T14:59:59",
          "2023-06-04T15:59:59",
          "2023-06-04T16:59:59",
          "2023-06-04T17:59:59",
          "2023-06-04T18:59:59",
          "2023-06-04T19:59:59",
          "2023-06-04T20:59:59",
          "2023-06-04T21:59:59",
          "2023-06-04T22:59:59",
          "2023-06-04T23:59:59",
          "2023-06-05T00:59:59",
          "2023-06-05T01:59:59",
          "2023-06-05T02:59:59",
          "2023-06-05T03:59:59",
          "2023-06-05T04:59:59",
          "2023-06-05T05:59:59",
          "2023-06-05T06:59:59",
          "2023-06-05T07:59:59",
          "2023-06-05T08:59:59",
          "2023-06-05T09:59:59",
          "2023-06-05T10:59:59",
          "2023-06-05T11:59:59",
          "2023-06-05T12:59:59",
          "2023-06-05T13:59:59",
          "2023-06-05T14:59:59",
          "2023-06-05T15:59:59",
          "2023-06-05T16:59:59",
          "2023-06-05T17:59:59",
          "2023-06-05T18:59:59",
          "2023-06-05T19:59:59",
          "2023-06-05T20:59:59",
          "2023-06-05T21:59:59",
          "2023-06-05T22:59:59",
          "2023-06-05T23:59:59",
          "2023-06-06T00:59:59",
          "2023-06-06T01:59:59",
          "2023-06-06T02:59:59",
          "2023-06-06T03:59:59",
          "2023-06-06T04:59:59",
          "2023-06-06T05:59:59",
          "2023-06-06T06:59:59",
          "2023-06-06T07:59:59",
          "2023-06-06T08:59:59",
          "2023-06-06T09:59:59",
          "2023-06-06T10:59:59",
          "2023-06-06T11:59:59",
          "2023-06-06T12:59:59",
          "2023-06-06T13:59:59",
          "2023-06-06T14:59:59",
          "2023-06-06T15:59:59",
          "2023-06-06T16:59:59",
          "2023-06-06T17:59:59",
          "2023-06-06T18:59:59",
          "2023-06-06T19:59:59",
          "2023-06-06T20:59:59",
          "2023-06-06T21:59:59",
          "2023-06-06T22:59:59",
          "2023-06-06T23:59:59"
         ],
         "xaxis": "x",
         "y": [
          139,
          139,
          139,
          139,
          139,
          139,
          139,
          139,
          139,
          139,
          139,
          139,
          139,
          139,
          139,
          139,
          139,
          139,
          139,
          139,
          139,
          139,
          139,
          139,
          144,
          144,
          144,
          144,
          144,
          144,
          144,
          144,
          144,
          144,
          144,
          144,
          144,
          144,
          144,
          144,
          144,
          144,
          144,
          144,
          144,
          144,
          144,
          144,
          139,
          139,
          139,
          139,
          139,
          139,
          139,
          139,
          139,
          139,
          139,
          139,
          139,
          139,
          139,
          139,
          139,
          139,
          139,
          139,
          139,
          139,
          139,
          139,
          156,
          156,
          156,
          156,
          156,
          156,
          156,
          156,
          156,
          156,
          156,
          156,
          156,
          156,
          156,
          156,
          156,
          156,
          156,
          156,
          156,
          156,
          156,
          156,
          180,
          180,
          180,
          180,
          180,
          180,
          180,
          180,
          180,
          180,
          180,
          180,
          180,
          180,
          180,
          180,
          180,
          180,
          180,
          180,
          180,
          180,
          180,
          180,
          194,
          194,
          194,
          194,
          194,
          194,
          194,
          194,
          194,
          194,
          194,
          194,
          194,
          194,
          194,
          194,
          194,
          194,
          194,
          194,
          194,
          194,
          194,
          194
         ],
         "yaxis": "y"
        },
        {
         "hovertemplate": "variable=Sentiment_NEGATIVE<br>datetime=%{x}<br>value=%{y}<extra></extra>",
         "legendgroup": "Sentiment_NEGATIVE",
         "line": {
          "color": "#ab63fa",
          "dash": "solid"
         },
         "marker": {
          "symbol": "circle"
         },
         "mode": "lines",
         "name": "Negative Sentiment",
         "orientation": "v",
         "showlegend": true,
         "type": "scatter",
         "x": [
          "2023-06-01T00:59:59",
          "2023-06-01T01:59:59",
          "2023-06-01T02:59:59",
          "2023-06-01T03:59:59",
          "2023-06-01T04:59:59",
          "2023-06-01T05:59:59",
          "2023-06-01T06:59:59",
          "2023-06-01T07:59:59",
          "2023-06-01T08:59:59",
          "2023-06-01T09:59:59",
          "2023-06-01T10:59:59",
          "2023-06-01T11:59:59",
          "2023-06-01T12:59:59",
          "2023-06-01T13:59:59",
          "2023-06-01T14:59:59",
          "2023-06-01T15:59:59",
          "2023-06-01T16:59:59",
          "2023-06-01T17:59:59",
          "2023-06-01T18:59:59",
          "2023-06-01T19:59:59",
          "2023-06-01T20:59:59",
          "2023-06-01T21:59:59",
          "2023-06-01T22:59:59",
          "2023-06-01T23:59:59",
          "2023-06-02T00:59:59",
          "2023-06-02T01:59:59",
          "2023-06-02T02:59:59",
          "2023-06-02T03:59:59",
          "2023-06-02T04:59:59",
          "2023-06-02T05:59:59",
          "2023-06-02T06:59:59",
          "2023-06-02T07:59:59",
          "2023-06-02T08:59:59",
          "2023-06-02T09:59:59",
          "2023-06-02T10:59:59",
          "2023-06-02T11:59:59",
          "2023-06-02T12:59:59",
          "2023-06-02T13:59:59",
          "2023-06-02T14:59:59",
          "2023-06-02T15:59:59",
          "2023-06-02T16:59:59",
          "2023-06-02T17:59:59",
          "2023-06-02T18:59:59",
          "2023-06-02T19:59:59",
          "2023-06-02T20:59:59",
          "2023-06-02T21:59:59",
          "2023-06-02T22:59:59",
          "2023-06-02T23:59:59",
          "2023-06-03T00:59:59",
          "2023-06-03T01:59:59",
          "2023-06-03T02:59:59",
          "2023-06-03T03:59:59",
          "2023-06-03T04:59:59",
          "2023-06-03T05:59:59",
          "2023-06-03T06:59:59",
          "2023-06-03T07:59:59",
          "2023-06-03T08:59:59",
          "2023-06-03T09:59:59",
          "2023-06-03T10:59:59",
          "2023-06-03T11:59:59",
          "2023-06-03T12:59:59",
          "2023-06-03T13:59:59",
          "2023-06-03T14:59:59",
          "2023-06-03T15:59:59",
          "2023-06-03T16:59:59",
          "2023-06-03T17:59:59",
          "2023-06-03T18:59:59",
          "2023-06-03T19:59:59",
          "2023-06-03T20:59:59",
          "2023-06-03T21:59:59",
          "2023-06-03T22:59:59",
          "2023-06-03T23:59:59",
          "2023-06-04T00:59:59",
          "2023-06-04T01:59:59",
          "2023-06-04T02:59:59",
          "2023-06-04T03:59:59",
          "2023-06-04T04:59:59",
          "2023-06-04T05:59:59",
          "2023-06-04T06:59:59",
          "2023-06-04T07:59:59",
          "2023-06-04T08:59:59",
          "2023-06-04T09:59:59",
          "2023-06-04T10:59:59",
          "2023-06-04T11:59:59",
          "2023-06-04T12:59:59",
          "2023-06-04T13:59:59",
          "2023-06-04T14:59:59",
          "2023-06-04T15:59:59",
          "2023-06-04T16:59:59",
          "2023-06-04T17:59:59",
          "2023-06-04T18:59:59",
          "2023-06-04T19:59:59",
          "2023-06-04T20:59:59",
          "2023-06-04T21:59:59",
          "2023-06-04T22:59:59",
          "2023-06-04T23:59:59",
          "2023-06-05T00:59:59",
          "2023-06-05T01:59:59",
          "2023-06-05T02:59:59",
          "2023-06-05T03:59:59",
          "2023-06-05T04:59:59",
          "2023-06-05T05:59:59",
          "2023-06-05T06:59:59",
          "2023-06-05T07:59:59",
          "2023-06-05T08:59:59",
          "2023-06-05T09:59:59",
          "2023-06-05T10:59:59",
          "2023-06-05T11:59:59",
          "2023-06-05T12:59:59",
          "2023-06-05T13:59:59",
          "2023-06-05T14:59:59",
          "2023-06-05T15:59:59",
          "2023-06-05T16:59:59",
          "2023-06-05T17:59:59",
          "2023-06-05T18:59:59",
          "2023-06-05T19:59:59",
          "2023-06-05T20:59:59",
          "2023-06-05T21:59:59",
          "2023-06-05T22:59:59",
          "2023-06-05T23:59:59",
          "2023-06-06T00:59:59",
          "2023-06-06T01:59:59",
          "2023-06-06T02:59:59",
          "2023-06-06T03:59:59",
          "2023-06-06T04:59:59",
          "2023-06-06T05:59:59",
          "2023-06-06T06:59:59",
          "2023-06-06T07:59:59",
          "2023-06-06T08:59:59",
          "2023-06-06T09:59:59",
          "2023-06-06T10:59:59",
          "2023-06-06T11:59:59",
          "2023-06-06T12:59:59",
          "2023-06-06T13:59:59",
          "2023-06-06T14:59:59",
          "2023-06-06T15:59:59",
          "2023-06-06T16:59:59",
          "2023-06-06T17:59:59",
          "2023-06-06T18:59:59",
          "2023-06-06T19:59:59",
          "2023-06-06T20:59:59",
          "2023-06-06T21:59:59",
          "2023-06-06T22:59:59",
          "2023-06-06T23:59:59"
         ],
         "xaxis": "x",
         "y": [
          8,
          8,
          8,
          8,
          8,
          8,
          8,
          8,
          8,
          8,
          8,
          8,
          8,
          8,
          8,
          8,
          8,
          8,
          8,
          8,
          8,
          8,
          8,
          8,
          4,
          4,
          4,
          4,
          4,
          4,
          4,
          4,
          4,
          4,
          4,
          4,
          4,
          4,
          4,
          4,
          4,
          4,
          4,
          4,
          4,
          4,
          4,
          4,
          21,
          21,
          21,
          21,
          21,
          21,
          21,
          21,
          21,
          21,
          21,
          21,
          21,
          21,
          21,
          21,
          21,
          21,
          21,
          21,
          21,
          21,
          21,
          21,
          25,
          25,
          25,
          25,
          25,
          25,
          25,
          25,
          25,
          25,
          25,
          25,
          25,
          25,
          25,
          25,
          25,
          25,
          25,
          25,
          25,
          25,
          25,
          25,
          8,
          8,
          8,
          8,
          8,
          8,
          8,
          8,
          8,
          8,
          8,
          8,
          8,
          8,
          8,
          8,
          8,
          8,
          8,
          8,
          8,
          8,
          8,
          8,
          6,
          6,
          6,
          6,
          6,
          6,
          6,
          6,
          6,
          6,
          6,
          6,
          6,
          6,
          6,
          6,
          6,
          6,
          6,
          6,
          6,
          6,
          6,
          6
         ],
         "yaxis": "y"
        }
       ],
       "layout": {
        "autosize": true,
        "font": {
         "color": "black",
         "size": 15
        },
        "legend": {
         "title": {
          "text": "Close Price"
         },
         "tracegroupgap": 0
        },
        "margin": {
         "t": 60
        },
        "plot_bgcolor": "white",
        "template": {
         "data": {
          "bar": [
           {
            "error_x": {
             "color": "#2a3f5f"
            },
            "error_y": {
             "color": "#2a3f5f"
            },
            "marker": {
             "line": {
              "color": "#E5ECF6",
              "width": 0.5
             },
             "pattern": {
              "fillmode": "overlay",
              "size": 10,
              "solidity": 0.2
             }
            },
            "type": "bar"
           }
          ],
          "barpolar": [
           {
            "marker": {
             "line": {
              "color": "#E5ECF6",
              "width": 0.5
             },
             "pattern": {
              "fillmode": "overlay",
              "size": 10,
              "solidity": 0.2
             }
            },
            "type": "barpolar"
           }
          ],
          "carpet": [
           {
            "aaxis": {
             "endlinecolor": "#2a3f5f",
             "gridcolor": "white",
             "linecolor": "white",
             "minorgridcolor": "white",
             "startlinecolor": "#2a3f5f"
            },
            "baxis": {
             "endlinecolor": "#2a3f5f",
             "gridcolor": "white",
             "linecolor": "white",
             "minorgridcolor": "white",
             "startlinecolor": "#2a3f5f"
            },
            "type": "carpet"
           }
          ],
          "choropleth": [
           {
            "colorbar": {
             "outlinewidth": 0,
             "ticks": ""
            },
            "type": "choropleth"
           }
          ],
          "contour": [
           {
            "colorbar": {
             "outlinewidth": 0,
             "ticks": ""
            },
            "colorscale": [
             [
              0,
              "#0d0887"
             ],
             [
              0.1111111111111111,
              "#46039f"
             ],
             [
              0.2222222222222222,
              "#7201a8"
             ],
             [
              0.3333333333333333,
              "#9c179e"
             ],
             [
              0.4444444444444444,
              "#bd3786"
             ],
             [
              0.5555555555555556,
              "#d8576b"
             ],
             [
              0.6666666666666666,
              "#ed7953"
             ],
             [
              0.7777777777777778,
              "#fb9f3a"
             ],
             [
              0.8888888888888888,
              "#fdca26"
             ],
             [
              1,
              "#f0f921"
             ]
            ],
            "type": "contour"
           }
          ],
          "contourcarpet": [
           {
            "colorbar": {
             "outlinewidth": 0,
             "ticks": ""
            },
            "type": "contourcarpet"
           }
          ],
          "heatmap": [
           {
            "colorbar": {
             "outlinewidth": 0,
             "ticks": ""
            },
            "colorscale": [
             [
              0,
              "#0d0887"
             ],
             [
              0.1111111111111111,
              "#46039f"
             ],
             [
              0.2222222222222222,
              "#7201a8"
             ],
             [
              0.3333333333333333,
              "#9c179e"
             ],
             [
              0.4444444444444444,
              "#bd3786"
             ],
             [
              0.5555555555555556,
              "#d8576b"
             ],
             [
              0.6666666666666666,
              "#ed7953"
             ],
             [
              0.7777777777777778,
              "#fb9f3a"
             ],
             [
              0.8888888888888888,
              "#fdca26"
             ],
             [
              1,
              "#f0f921"
             ]
            ],
            "type": "heatmap"
           }
          ],
          "heatmapgl": [
           {
            "colorbar": {
             "outlinewidth": 0,
             "ticks": ""
            },
            "colorscale": [
             [
              0,
              "#0d0887"
             ],
             [
              0.1111111111111111,
              "#46039f"
             ],
             [
              0.2222222222222222,
              "#7201a8"
             ],
             [
              0.3333333333333333,
              "#9c179e"
             ],
             [
              0.4444444444444444,
              "#bd3786"
             ],
             [
              0.5555555555555556,
              "#d8576b"
             ],
             [
              0.6666666666666666,
              "#ed7953"
             ],
             [
              0.7777777777777778,
              "#fb9f3a"
             ],
             [
              0.8888888888888888,
              "#fdca26"
             ],
             [
              1,
              "#f0f921"
             ]
            ],
            "type": "heatmapgl"
           }
          ],
          "histogram": [
           {
            "marker": {
             "pattern": {
              "fillmode": "overlay",
              "size": 10,
              "solidity": 0.2
             }
            },
            "type": "histogram"
           }
          ],
          "histogram2d": [
           {
            "colorbar": {
             "outlinewidth": 0,
             "ticks": ""
            },
            "colorscale": [
             [
              0,
              "#0d0887"
             ],
             [
              0.1111111111111111,
              "#46039f"
             ],
             [
              0.2222222222222222,
              "#7201a8"
             ],
             [
              0.3333333333333333,
              "#9c179e"
             ],
             [
              0.4444444444444444,
              "#bd3786"
             ],
             [
              0.5555555555555556,
              "#d8576b"
             ],
             [
              0.6666666666666666,
              "#ed7953"
             ],
             [
              0.7777777777777778,
              "#fb9f3a"
             ],
             [
              0.8888888888888888,
              "#fdca26"
             ],
             [
              1,
              "#f0f921"
             ]
            ],
            "type": "histogram2d"
           }
          ],
          "histogram2dcontour": [
           {
            "colorbar": {
             "outlinewidth": 0,
             "ticks": ""
            },
            "colorscale": [
             [
              0,
              "#0d0887"
             ],
             [
              0.1111111111111111,
              "#46039f"
             ],
             [
              0.2222222222222222,
              "#7201a8"
             ],
             [
              0.3333333333333333,
              "#9c179e"
             ],
             [
              0.4444444444444444,
              "#bd3786"
             ],
             [
              0.5555555555555556,
              "#d8576b"
             ],
             [
              0.6666666666666666,
              "#ed7953"
             ],
             [
              0.7777777777777778,
              "#fb9f3a"
             ],
             [
              0.8888888888888888,
              "#fdca26"
             ],
             [
              1,
              "#f0f921"
             ]
            ],
            "type": "histogram2dcontour"
           }
          ],
          "mesh3d": [
           {
            "colorbar": {
             "outlinewidth": 0,
             "ticks": ""
            },
            "type": "mesh3d"
           }
          ],
          "parcoords": [
           {
            "line": {
             "colorbar": {
              "outlinewidth": 0,
              "ticks": ""
             }
            },
            "type": "parcoords"
           }
          ],
          "pie": [
           {
            "automargin": true,
            "type": "pie"
           }
          ],
          "scatter": [
           {
            "fillpattern": {
             "fillmode": "overlay",
             "size": 10,
             "solidity": 0.2
            },
            "type": "scatter"
           }
          ],
          "scatter3d": [
           {
            "line": {
             "colorbar": {
              "outlinewidth": 0,
              "ticks": ""
             }
            },
            "marker": {
             "colorbar": {
              "outlinewidth": 0,
              "ticks": ""
             }
            },
            "type": "scatter3d"
           }
          ],
          "scattercarpet": [
           {
            "marker": {
             "colorbar": {
              "outlinewidth": 0,
              "ticks": ""
             }
            },
            "type": "scattercarpet"
           }
          ],
          "scattergeo": [
           {
            "marker": {
             "colorbar": {
              "outlinewidth": 0,
              "ticks": ""
             }
            },
            "type": "scattergeo"
           }
          ],
          "scattergl": [
           {
            "marker": {
             "colorbar": {
              "outlinewidth": 0,
              "ticks": ""
             }
            },
            "type": "scattergl"
           }
          ],
          "scattermapbox": [
           {
            "marker": {
             "colorbar": {
              "outlinewidth": 0,
              "ticks": ""
             }
            },
            "type": "scattermapbox"
           }
          ],
          "scatterpolar": [
           {
            "marker": {
             "colorbar": {
              "outlinewidth": 0,
              "ticks": ""
             }
            },
            "type": "scatterpolar"
           }
          ],
          "scatterpolargl": [
           {
            "marker": {
             "colorbar": {
              "outlinewidth": 0,
              "ticks": ""
             }
            },
            "type": "scatterpolargl"
           }
          ],
          "scatterternary": [
           {
            "marker": {
             "colorbar": {
              "outlinewidth": 0,
              "ticks": ""
             }
            },
            "type": "scatterternary"
           }
          ],
          "surface": [
           {
            "colorbar": {
             "outlinewidth": 0,
             "ticks": ""
            },
            "colorscale": [
             [
              0,
              "#0d0887"
             ],
             [
              0.1111111111111111,
              "#46039f"
             ],
             [
              0.2222222222222222,
              "#7201a8"
             ],
             [
              0.3333333333333333,
              "#9c179e"
             ],
             [
              0.4444444444444444,
              "#bd3786"
             ],
             [
              0.5555555555555556,
              "#d8576b"
             ],
             [
              0.6666666666666666,
              "#ed7953"
             ],
             [
              0.7777777777777778,
              "#fb9f3a"
             ],
             [
              0.8888888888888888,
              "#fdca26"
             ],
             [
              1,
              "#f0f921"
             ]
            ],
            "type": "surface"
           }
          ],
          "table": [
           {
            "cells": {
             "fill": {
              "color": "#EBF0F8"
             },
             "line": {
              "color": "white"
             }
            },
            "header": {
             "fill": {
              "color": "#C8D4E3"
             },
             "line": {
              "color": "white"
             }
            },
            "type": "table"
           }
          ]
         },
         "layout": {
          "annotationdefaults": {
           "arrowcolor": "#2a3f5f",
           "arrowhead": 0,
           "arrowwidth": 1
          },
          "autotypenumbers": "strict",
          "coloraxis": {
           "colorbar": {
            "outlinewidth": 0,
            "ticks": ""
           }
          },
          "colorscale": {
           "diverging": [
            [
             0,
             "#8e0152"
            ],
            [
             0.1,
             "#c51b7d"
            ],
            [
             0.2,
             "#de77ae"
            ],
            [
             0.3,
             "#f1b6da"
            ],
            [
             0.4,
             "#fde0ef"
            ],
            [
             0.5,
             "#f7f7f7"
            ],
            [
             0.6,
             "#e6f5d0"
            ],
            [
             0.7,
             "#b8e186"
            ],
            [
             0.8,
             "#7fbc41"
            ],
            [
             0.9,
             "#4d9221"
            ],
            [
             1,
             "#276419"
            ]
           ],
           "sequential": [
            [
             0,
             "#0d0887"
            ],
            [
             0.1111111111111111,
             "#46039f"
            ],
            [
             0.2222222222222222,
             "#7201a8"
            ],
            [
             0.3333333333333333,
             "#9c179e"
            ],
            [
             0.4444444444444444,
             "#bd3786"
            ],
            [
             0.5555555555555556,
             "#d8576b"
            ],
            [
             0.6666666666666666,
             "#ed7953"
            ],
            [
             0.7777777777777778,
             "#fb9f3a"
            ],
            [
             0.8888888888888888,
             "#fdca26"
            ],
            [
             1,
             "#f0f921"
            ]
           ],
           "sequentialminus": [
            [
             0,
             "#0d0887"
            ],
            [
             0.1111111111111111,
             "#46039f"
            ],
            [
             0.2222222222222222,
             "#7201a8"
            ],
            [
             0.3333333333333333,
             "#9c179e"
            ],
            [
             0.4444444444444444,
             "#bd3786"
            ],
            [
             0.5555555555555556,
             "#d8576b"
            ],
            [
             0.6666666666666666,
             "#ed7953"
            ],
            [
             0.7777777777777778,
             "#fb9f3a"
            ],
            [
             0.8888888888888888,
             "#fdca26"
            ],
            [
             1,
             "#f0f921"
            ]
           ]
          },
          "colorway": [
           "#636efa",
           "#EF553B",
           "#00cc96",
           "#ab63fa",
           "#FFA15A",
           "#19d3f3",
           "#FF6692",
           "#B6E880",
           "#FF97FF",
           "#FECB52"
          ],
          "font": {
           "color": "#2a3f5f"
          },
          "geo": {
           "bgcolor": "white",
           "lakecolor": "white",
           "landcolor": "#E5ECF6",
           "showlakes": true,
           "showland": true,
           "subunitcolor": "white"
          },
          "hoverlabel": {
           "align": "left"
          },
          "hovermode": "closest",
          "mapbox": {
           "style": "light"
          },
          "paper_bgcolor": "white",
          "plot_bgcolor": "#E5ECF6",
          "polar": {
           "angularaxis": {
            "gridcolor": "white",
            "linecolor": "white",
            "ticks": ""
           },
           "bgcolor": "#E5ECF6",
           "radialaxis": {
            "gridcolor": "white",
            "linecolor": "white",
            "ticks": ""
           }
          },
          "scene": {
           "xaxis": {
            "backgroundcolor": "#E5ECF6",
            "gridcolor": "white",
            "gridwidth": 2,
            "linecolor": "white",
            "showbackground": true,
            "ticks": "",
            "zerolinecolor": "white"
           },
           "yaxis": {
            "backgroundcolor": "#E5ECF6",
            "gridcolor": "white",
            "gridwidth": 2,
            "linecolor": "white",
            "showbackground": true,
            "ticks": "",
            "zerolinecolor": "white"
           },
           "zaxis": {
            "backgroundcolor": "#E5ECF6",
            "gridcolor": "white",
            "gridwidth": 2,
            "linecolor": "white",
            "showbackground": true,
            "ticks": "",
            "zerolinecolor": "white"
           }
          },
          "shapedefaults": {
           "line": {
            "color": "#2a3f5f"
           }
          },
          "ternary": {
           "aaxis": {
            "gridcolor": "white",
            "linecolor": "white",
            "ticks": ""
           },
           "baxis": {
            "gridcolor": "white",
            "linecolor": "white",
            "ticks": ""
           },
           "bgcolor": "#E5ECF6",
           "caxis": {
            "gridcolor": "white",
            "linecolor": "white",
            "ticks": ""
           }
          },
          "title": {
           "x": 0.05
          },
          "xaxis": {
           "automargin": true,
           "gridcolor": "white",
           "linecolor": "white",
           "ticks": "",
           "title": {
            "standoff": 15
           },
           "zerolinecolor": "white",
           "zerolinewidth": 2
          },
          "yaxis": {
           "automargin": true,
           "gridcolor": "white",
           "linecolor": "white",
           "ticks": "",
           "title": {
            "standoff": 15
           },
           "zerolinecolor": "white",
           "zerolinewidth": 2
          }
         }
        },
        "title": {
         "text": "BTC Price vs Tweet Sentiment"
        },
        "xaxis": {
         "anchor": "y",
         "autorange": true,
         "domain": [
          0,
          1
         ],
         "range": [
          "2023-06-01 00:59:59",
          "2023-06-06 23:59:59"
         ],
         "showgrid": false,
         "title": {
          "text": "datetime"
         },
         "type": "date"
        },
        "yaxis": {
         "anchor": "x",
         "autorange": true,
         "domain": [
          0,
          1
         ],
         "range": [
          -860.0538888888891,
          447.42388888888814
         ],
         "showgrid": false,
         "title": {
          "text": "Close Price"
         },
         "type": "linear"
        }
       }
      },
      "image/png": "[encoded data removed]",
      "text/html": [
       "<div>                            <div id=\"9da0e110-97ad-491e-b24e-cec013d6fd99\" class=\"plotly-graph-div\" style=\"height:525px; width:100%;\"></div>            <script type=\"text/javascript\">                require([\"plotly\"], function(Plotly) {                    window.PLOTLYENV=window.PLOTLYENV || {};                                    if (document.getElementById(\"9da0e110-97ad-491e-b24e-cec013d6fd99\")) {                    Plotly.newPlot(                        \"9da0e110-97ad-491e-b24e-cec013d6fd99\",                        [{\"hovertemplate\":\"variable=change_close<br>datetime=%{x}<br>value=%{y}<extra></extra>\",\"legendgroup\":\"change_close\",\"line\":{\"color\":\"#636efa\",\"dash\":\"solid\"},\"marker\":{\"symbol\":\"circle\"},\"mode\":\"lines\",\"name\":\"Change in Close price\",\"orientation\":\"v\",\"showlegend\":true,\"x\":[\"2023-06-01T00:59:59\",\"2023-06-01T01:59:59\",\"2023-06-01T02:59:59\",\"2023-06-01T03:59:59\",\"2023-06-01T04:59:59\",\"2023-06-01T05:59:59\",\"2023-06-01T06:59:59\",\"2023-06-01T07:59:59\",\"2023-06-01T08:59:59\",\"2023-06-01T09:59:59\",\"2023-06-01T10:59:59\",\"2023-06-01T11:59:59\",\"2023-06-01T12:59:59\",\"2023-06-01T13:59:59\",\"2023-06-01T14:59:59\",\"2023-06-01T15:59:59\",\"2023-06-01T16:59:59\",\"2023-06-01T17:59:59\",\"2023-06-01T18:59:59\",\"2023-06-01T19:59:59\",\"2023-06-01T20:59:59\",\"2023-06-01T21:59:59\",\"2023-06-01T22:59:59\",\"2023-06-01T23:59:59\",\"2023-06-02T00:59:59\",\"2023-06-02T01:59:59\",\"2023-06-02T02:59:59\",\"2023-06-02T03:59:59\",\"2023-06-02T04:59:59\",\"2023-06-02T05:59:59\",\"2023-06-02T06:59:59\",\"2023-06-02T07:59:59\",\"2023-06-02T08:59:59\",\"2023-06-02T09:59:59\",\"2023-06-02T10:59:59\",\"2023-06-02T11:59:59\",\"2023-06-02T12:59:59\",\"2023-06-02T13:59:59\",\"2023-06-02T14:59:59\",\"2023-06-02T15:59:59\",\"2023-06-02T16:59:59\",\"2023-06-02T17:59:59\",\"2023-06-02T18:59:59\",\"2023-06-02T19:59:59\",\"2023-06-02T20:59:59\",\"2023-06-02T21:59:59\",\"2023-06-02T22:59:59\",\"2023-06-02T23:59:59\",\"2023-06-03T00:59:59\",\"2023-06-03T01:59:59\",\"2023-06-03T02:59:59\",\"2023-06-03T03:59:59\",\"2023-06-03T04:59:59\",\"2023-06-03T05:59:59\",\"2023-06-03T06:59:59\",\"2023-06-03T07:59:59\",\"2023-06-03T08:59:59\",\"2023-06-03T09:59:59\",\"2023-06-03T10:59:59\",\"2023-06-03T11:59:59\",\"2023-06-03T12:59:59\",\"2023-06-03T13:59:59\",\"2023-06-03T14:59:59\",\"2023-06-03T15:59:59\",\"2023-06-03T16:59:59\",\"2023-06-03T17:59:59\",\"2023-06-03T18:59:59\",\"2023-06-03T19:59:59\",\"2023-06-03T20:59:59\",\"2023-06-03T21:59:59\",\"2023-06-03T22:59:59\",\"2023-06-03T23:59:59\",\"2023-06-04T00:59:59\",\"2023-06-04T01:59:59\",\"2023-06-04T02:59:59\",\"2023-06-04T03:59:59\",\"2023-06-04T04:59:59\",\"2023-06-04T05:59:59\",\"2023-06-04T06:59:59\",\"2023-06-04T07:59:59\",\"2023-06-04T08:59:59\",\"2023-06-04T09:59:59\",\"2023-06-04T10:59:59\",\"2023-06-04T11:59:59\",\"2023-06-04T12:59:59\",\"2023-06-04T13:59:59\",\"2023-06-04T14:59:59\",\"2023-06-04T15:59:59\",\"2023-06-04T16:59:59\",\"2023-06-04T17:59:59\",\"2023-06-04T18:59:59\",\"2023-06-04T19:59:59\",\"2023-06-04T20:59:59\",\"2023-06-04T21:59:59\",\"2023-06-04T22:59:59\",\"2023-06-04T23:59:59\",\"2023-06-05T00:59:59\",\"2023-06-05T01:59:59\",\"2023-06-05T02:59:59\",\"2023-06-05T03:59:59\",\"2023-06-05T04:59:59\",\"2023-06-05T05:59:59\",\"2023-06-05T06:59:59\",\"2023-06-05T07:59:59\",\"2023-06-05T08:59:59\",\"2023-06-05T09:59:59\",\"2023-06-05T10:59:59\",\"2023-06-05T11:59:59\",\"2023-06-05T12:59:59\",\"2023-06-05T13:59:59\",\"2023-06-05T14:59:59\",\"2023-06-05T15:59:59\",\"2023-06-05T16:59:59\",\"2023-06-05T17:59:59\",\"2023-06-05T18:59:59\",\"2023-06-05T19:59:59\",\"2023-06-05T20:59:59\",\"2023-06-05T21:59:59\",\"2023-06-05T22:59:59\",\"2023-06-05T23:59:59\",\"2023-06-06T00:59:59\",\"2023-06-06T01:59:59\",\"2023-06-06T02:59:59\",\"2023-06-06T03:59:59\",\"2023-06-06T04:59:59\",\"2023-06-06T05:59:59\",\"2023-06-06T06:59:59\",\"2023-06-06T07:59:59\",\"2023-06-06T08:59:59\",\"2023-06-06T09:59:59\",\"2023-06-06T10:59:59\",\"2023-06-06T11:59:59\",\"2023-06-06T12:59:59\",\"2023-06-06T13:59:59\",\"2023-06-06T14:59:59\",\"2023-06-06T15:59:59\",\"2023-06-06T16:59:59\",\"2023-06-06T17:59:59\",\"2023-06-06T18:59:59\",\"2023-06-06T19:59:59\",\"2023-06-06T20:59:59\",\"2023-06-06T21:59:59\",\"2023-06-06T22:59:59\",\"2023-06-06T23:59:59\"],\"xaxis\":\"x\",\"y\":[null,12.790000000000873,-359.3000000000029,60.68000000000029,24.210000000002765,45.04999999999927,-64.06999999999971,17.539999999997235,109.86000000000058,-3.899999999997817,-48.63000000000102,32.95999999999913,48.830000000001746,-50.04999999999927,6.3400000000001455,-3.600000000002183,197.60000000000218,-135.14000000000306,7.830000000001746,-102.09000000000015,0.31999999999970896,26.840000000000146,-8.869999999998981,-63.04000000000087,-31.900000000001455,25.87000000000262,148.10999999999694,39.9900000000016,68.27000000000044,84.32999999999811,-81.53999999999724,-21.409999999999854,116.48999999999796,-85.45999999999913,16.31000000000131,33.7599999999984,-35.330000000001746,-186.5799999999981,55.900000000001455,131.17999999999665,-39.859999999996944,1.5200000000004366,135.0199999999968,46.42000000000189,-66.18000000000029,34.56000000000131,55.5199999999968,-20.32999999999811,-77.5,-34.68999999999869,22.859999999996944,-10.059999999997672,17.040000000000873,-3.040000000000873,25.149999999997817,-7.930000000000291,-27.799999999999272,4.889999999999418,-11.5099999999984,-10.209999999999127,36.02000000000044,1.1699999999982538,4.260000000002037,134.0199999999968,-56.779999999998836,-87.57999999999811,-13.470000000001164,-51.06999999999971,-34.029999999998836,-57.92000000000189,67.13999999999942,-2.3299999999981083,-64.09000000000015,35.89999999999782,50.2400000000016,-29.889999999999418,-6.430000000000291,-16.31999999999971,89.14999999999782,22.67000000000189,0.36999999999898137,65.06999999999971,5.1599999999998545,-22.5,11.549999999999272,35.36000000000058,-11.2599999999984,-55.20000000000073,-8.340000000000146,6.099999999998545,17.42000000000189,18.93000000000029,28.399999999997817,-46.93999999999869,39.4900000000016,-118.85000000000218,-90.45000000000073,22.38000000000102,-124.43000000000029,-79.12999999999738,-6.580000000001746,-20.299999999999272,-51.36000000000058,64.65000000000146,-31.350000000002183,-21.649999999997817,-60.19000000000233,56.590000000000146,-82.63000000000102,37.88000000000102,73.56999999999971,-794.6800000000003,-198.47999999999956,-52.77000000000044,-191.84999999999854,65.56000000000131,1.1699999999982538,27.18999999999869,52.38000000000102,17.470000000001164,-37.31000000000131,-50.88000000000102,124.75,-33.92999999999665,66.81999999999971,-27.700000000000728,-3.7400000000016007,-43.87999999999738,-14.530000000002474,42.95999999999913,-8.399999999997817,-55.720000000001164,-153.22999999999956,201.79000000000087,289.52999999999884,41.38000000000102,303.880000000001,299.16999999999825,28.92000000000189,382.0499999999993,-135.15000000000146,112.04999999999927,95.62000000000262,77.43000000000029],\"yaxis\":\"y\",\"type\":\"scatter\"},{\"hovertemplate\":\"variable=Sentiment_POSITIVE<br>datetime=%{x}<br>value=%{y}<extra></extra>\",\"legendgroup\":\"Sentiment_POSITIVE\",\"line\":{\"color\":\"#EF553B\",\"dash\":\"solid\"},\"marker\":{\"symbol\":\"circle\"},\"mode\":\"lines\",\"name\":\"Positive Sentiment\",\"orientation\":\"v\",\"showlegend\":true,\"x\":[\"2023-06-01T00:59:59\",\"2023-06-01T01:59:59\",\"2023-06-01T02:59:59\",\"2023-06-01T03:59:59\",\"2023-06-01T04:59:59\",\"2023-06-01T05:59:59\",\"2023-06-01T06:59:59\",\"2023-06-01T07:59:59\",\"2023-06-01T08:59:59\",\"2023-06-01T09:59:59\",\"2023-06-01T10:59:59\",\"2023-06-01T11:59:59\",\"2023-06-01T12:59:59\",\"2023-06-01T13:59:59\",\"2023-06-01T14:59:59\",\"2023-06-01T15:59:59\",\"2023-06-01T16:59:59\",\"2023-06-01T17:59:59\",\"2023-06-01T18:59:59\",\"2023-06-01T19:59:59\",\"2023-06-01T20:59:59\",\"2023-06-01T21:59:59\",\"2023-06-01T22:59:59\",\"2023-06-01T23:59:59\",\"2023-06-02T00:59:59\",\"2023-06-02T01:59:59\",\"2023-06-02T02:59:59\",\"2023-06-02T03:59:59\",\"2023-06-02T04:59:59\",\"2023-06-02T05:59:59\",\"2023-06-02T06:59:59\",\"2023-06-02T07:59:59\",\"2023-06-02T08:59:59\",\"2023-06-02T09:59:59\",\"2023-06-02T10:59:59\",\"2023-06-02T11:59:59\",\"2023-06-02T12:59:59\",\"2023-06-02T13:59:59\",\"2023-06-02T14:59:59\",\"2023-06-02T15:59:59\",\"2023-06-02T16:59:59\",\"2023-06-02T17:59:59\",\"2023-06-02T18:59:59\",\"2023-06-02T19:59:59\",\"2023-06-02T20:59:59\",\"2023-06-02T21:59:59\",\"2023-06-02T22:59:59\",\"2023-06-02T23:59:59\",\"2023-06-03T00:59:59\",\"2023-06-03T01:59:59\",\"2023-06-03T02:59:59\",\"2023-06-03T03:59:59\",\"2023-06-03T04:59:59\",\"2023-06-03T05:59:59\",\"2023-06-03T06:59:59\",\"2023-06-03T07:59:59\",\"2023-06-03T08:59:59\",\"2023-06-03T09:59:59\",\"2023-06-03T10:59:59\",\"2023-06-03T11:59:59\",\"2023-06-03T12:59:59\",\"2023-06-03T13:59:59\",\"2023-06-03T14:59:59\",\"2023-06-03T15:59:59\",\"2023-06-03T16:59:59\",\"2023-06-03T17:59:59\",\"2023-06-03T18:59:59\",\"2023-06-03T19:59:59\",\"2023-06-03T20:59:59\",\"2023-06-03T21:59:59\",\"2023-06-03T22:59:59\",\"2023-06-03T23:59:59\",\"2023-06-04T00:59:59\",\"2023-06-04T01:59:59\",\"2023-06-04T02:59:59\",\"2023-06-04T03:59:59\",\"2023-06-04T04:59:59\",\"2023-06-04T05:59:59\",\"2023-06-04T06:59:59\",\"2023-06-04T07:59:59\",\"2023-06-04T08:59:59\",\"2023-06-04T09:59:59\",\"2023-06-04T10:59:59\",\"2023-06-04T11:59:59\",\"2023-06-04T12:59:59\",\"2023-06-04T13:59:59\",\"2023-06-04T14:59:59\",\"2023-06-04T15:59:59\",\"2023-06-04T16:59:59\",\"2023-06-04T17:59:59\",\"2023-06-04T18:59:59\",\"2023-06-04T19:59:59\",\"2023-06-04T20:59:59\",\"2023-06-04T21:59:59\",\"2023-06-04T22:59:59\",\"2023-06-04T23:59:59\",\"2023-06-05T00:59:59\",\"2023-06-05T01:59:59\",\"2023-06-05T02:59:59\",\"2023-06-05T03:59:59\",\"2023-06-05T04:59:59\",\"2023-06-05T05:59:59\",\"2023-06-05T06:59:59\",\"2023-06-05T07:59:59\",\"2023-06-05T08:59:59\",\"2023-06-05T09:59:59\",\"2023-06-05T10:59:59\",\"2023-06-05T11:59:59\",\"2023-06-05T12:59:59\",\"2023-06-05T13:59:59\",\"2023-06-05T14:59:59\",\"2023-06-05T15:59:59\",\"2023-06-05T16:59:59\",\"2023-06-05T17:59:59\",\"2023-06-05T18:59:59\",\"2023-06-05T19:59:59\",\"2023-06-05T20:59:59\",\"2023-06-05T21:59:59\",\"2023-06-05T22:59:59\",\"2023-06-05T23:59:59\",\"2023-06-06T00:59:59\",\"2023-06-06T01:59:59\",\"2023-06-06T02:59:59\",\"2023-06-06T03:59:59\",\"2023-06-06T04:59:59\",\"2023-06-06T05:59:59\",\"2023-06-06T06:59:59\",\"2023-06-06T07:59:59\",\"2023-06-06T08:59:59\",\"2023-06-06T09:59:59\",\"2023-06-06T10:59:59\",\"2023-06-06T11:59:59\",\"2023-06-06T12:59:59\",\"2023-06-06T13:59:59\",\"2023-06-06T14:59:59\",\"2023-06-06T15:59:59\",\"2023-06-06T16:59:59\",\"2023-06-06T17:59:59\",\"2023-06-06T18:59:59\",\"2023-06-06T19:59:59\",\"2023-06-06T20:59:59\",\"2023-06-06T21:59:59\",\"2023-06-06T22:59:59\",\"2023-06-06T23:59:59\"],\"xaxis\":\"x\",\"y\":[11.0,11.0,11.0,11.0,11.0,11.0,11.0,11.0,11.0,11.0,11.0,11.0,11.0,11.0,11.0,11.0,11.0,11.0,11.0,11.0,11.0,11.0,11.0,11.0,11.0,11.0,11.0,11.0,11.0,11.0,11.0,11.0,11.0,11.0,11.0,11.0,11.0,11.0,11.0,11.0,11.0,11.0,11.0,11.0,11.0,11.0,11.0,11.0,22.0,22.0,22.0,22.0,22.0,22.0,22.0,22.0,22.0,22.0,22.0,22.0,22.0,22.0,22.0,22.0,22.0,22.0,22.0,22.0,22.0,22.0,22.0,22.0,27.0,27.0,27.0,27.0,27.0,27.0,27.0,27.0,27.0,27.0,27.0,27.0,27.0,27.0,27.0,27.0,27.0,27.0,27.0,27.0,27.0,27.0,27.0,27.0,27.0,27.0,27.0,27.0,27.0,27.0,27.0,27.0,27.0,27.0,27.0,27.0,27.0,27.0,27.0,27.0,27.0,27.0,27.0,27.0,27.0,27.0,27.0,27.0,20.0,20.0,20.0,20.0,20.0,20.0,20.0,20.0,20.0,20.0,20.0,20.0,20.0,20.0,20.0,20.0,20.0,20.0,20.0,20.0,20.0,20.0,20.0,20.0],\"yaxis\":\"y\",\"type\":\"scatter\"},{\"hovertemplate\":\"variable=Sentiment_NEUTRAL<br>datetime=%{x}<br>value=%{y}<extra></extra>\",\"legendgroup\":\"Sentiment_NEUTRAL\",\"line\":{\"color\":\"#00cc96\",\"dash\":\"solid\"},\"marker\":{\"symbol\":\"circle\"},\"mode\":\"lines\",\"name\":\"Neutral Sentiment\",\"orientation\":\"v\",\"showlegend\":true,\"x\":[\"2023-06-01T00:59:59\",\"2023-06-01T01:59:59\",\"2023-06-01T02:59:59\",\"2023-06-01T03:59:59\",\"2023-06-01T04:59:59\",\"2023-06-01T05:59:59\",\"2023-06-01T06:59:59\",\"2023-06-01T07:59:59\",\"2023-06-01T08:59:59\",\"2023-06-01T09:59:59\",\"2023-06-01T10:59:59\",\"2023-06-01T11:59:59\",\"2023-06-01T12:59:59\",\"2023-06-01T13:59:59\",\"2023-06-01T14:59:59\",\"2023-06-01T15:59:59\",\"2023-06-01T16:59:59\",\"2023-06-01T17:59:59\",\"2023-06-01T18:59:59\",\"2023-06-01T19:59:59\",\"2023-06-01T20:59:59\",\"2023-06-01T21:59:59\",\"2023-06-01T22:59:59\",\"2023-06-01T23:59:59\",\"2023-06-02T00:59:59\",\"2023-06-02T01:59:59\",\"2023-06-02T02:59:59\",\"2023-06-02T03:59:59\",\"2023-06-02T04:59:59\",\"2023-06-02T05:59:59\",\"2023-06-02T06:59:59\",\"2023-06-02T07:59:59\",\"2023-06-02T08:59:59\",\"2023-06-02T09:59:59\",\"2023-06-02T10:59:59\",\"2023-06-02T11:59:59\",\"2023-06-02T12:59:59\",\"2023-06-02T13:59:59\",\"2023-06-02T14:59:59\",\"2023-06-02T15:59:59\",\"2023-06-02T16:59:59\",\"2023-06-02T17:59:59\",\"2023-06-02T18:59:59\",\"2023-06-02T19:59:59\",\"2023-06-02T20:59:59\",\"2023-06-02T21:59:59\",\"2023-06-02T22:59:59\",\"2023-06-02T23:59:59\",\"2023-06-03T00:59:59\",\"2023-06-03T01:59:59\",\"2023-06-03T02:59:59\",\"2023-06-03T03:59:59\",\"2023-06-03T04:59:59\",\"2023-06-03T05:59:59\",\"2023-06-03T06:59:59\",\"2023-06-03T07:59:59\",\"2023-06-03T08:59:59\",\"2023-06-03T09:59:59\",\"2023-06-03T10:59:59\",\"2023-06-03T11:59:59\",\"2023-06-03T12:59:59\",\"2023-06-03T13:59:59\",\"2023-06-03T14:59:59\",\"2023-06-03T15:59:59\",\"2023-06-03T16:59:59\",\"2023-06-03T17:59:59\",\"2023-06-03T18:59:59\",\"2023-06-03T19:59:59\",\"2023-06-03T20:59:59\",\"2023-06-03T21:59:59\",\"2023-06-03T22:59:59\",\"2023-06-03T23:59:59\",\"2023-06-04T00:59:59\",\"2023-06-04T01:59:59\",\"2023-06-04T02:59:59\",\"2023-06-04T03:59:59\",\"2023-06-04T04:59:59\",\"2023-06-04T05:59:59\",\"2023-06-04T06:59:59\",\"2023-06-04T07:59:59\",\"2023-06-04T08:59:59\",\"2023-06-04T09:59:59\",\"2023-06-04T10:59:59\",\"2023-06-04T11:59:59\",\"2023-06-04T12:59:59\",\"2023-06-04T13:59:59\",\"2023-06-04T14:59:59\",\"2023-06-04T15:59:59\",\"2023-06-04T16:59:59\",\"2023-06-04T17:59:59\",\"2023-06-04T18:59:59\",\"2023-06-04T19:59:59\",\"2023-06-04T20:59:59\",\"2023-06-04T21:59:59\",\"2023-06-04T22:59:59\",\"2023-06-04T23:59:59\",\"2023-06-05T00:59:59\",\"2023-06-05T01:59:59\",\"2023-06-05T02:59:59\",\"2023-06-05T03:59:59\",\"2023-06-05T04:59:59\",\"2023-06-05T05:59:59\",\"2023-06-05T06:59:59\",\"2023-06-05T07:59:59\",\"2023-06-05T08:59:59\",\"2023-06-05T09:59:59\",\"2023-06-05T10:59:59\",\"2023-06-05T11:59:59\",\"2023-06-05T12:59:59\",\"2023-06-05T13:59:59\",\"2023-06-05T14:59:59\",\"2023-06-05T15:59:59\",\"2023-06-05T16:59:59\",\"2023-06-05T17:59:59\",\"2023-06-05T18:59:59\",\"2023-06-05T19:59:59\",\"2023-06-05T20:59:59\",\"2023-06-05T21:59:59\",\"2023-06-05T22:59:59\",\"2023-06-05T23:59:59\",\"2023-06-06T00:59:59\",\"2023-06-06T01:59:59\",\"2023-06-06T02:59:59\",\"2023-06-06T03:59:59\",\"2023-06-06T04:59:59\",\"2023-06-06T05:59:59\",\"2023-06-06T06:59:59\",\"2023-06-06T07:59:59\",\"2023-06-06T08:59:59\",\"2023-06-06T09:59:59\",\"2023-06-06T10:59:59\",\"2023-06-06T11:59:59\",\"2023-06-06T12:59:59\",\"2023-06-06T13:59:59\",\"2023-06-06T14:59:59\",\"2023-06-06T15:59:59\",\"2023-06-06T16:59:59\",\"2023-06-06T17:59:59\",\"2023-06-06T18:59:59\",\"2023-06-06T19:59:59\",\"2023-06-06T20:59:59\",\"2023-06-06T21:59:59\",\"2023-06-06T22:59:59\",\"2023-06-06T23:59:59\"],\"xaxis\":\"x\",\"y\":[139.0,139.0,139.0,139.0,139.0,139.0,139.0,139.0,139.0,139.0,139.0,139.0,139.0,139.0,139.0,139.0,139.0,139.0,139.0,139.0,139.0,139.0,139.0,139.0,144.0,144.0,144.0,144.0,144.0,144.0,144.0,144.0,144.0,144.0,144.0,144.0,144.0,144.0,144.0,144.0,144.0,144.0,144.0,144.0,144.0,144.0,144.0,144.0,139.0,139.0,139.0,139.0,139.0,139.0,139.0,139.0,139.0,139.0,139.0,139.0,139.0,139.0,139.0,139.0,139.0,139.0,139.0,139.0,139.0,139.0,139.0,139.0,156.0,156.0,156.0,156.0,156.0,156.0,156.0,156.0,156.0,156.0,156.0,156.0,156.0,156.0,156.0,156.0,156.0,156.0,156.0,156.0,156.0,156.0,156.0,156.0,180.0,180.0,180.0,180.0,180.0,180.0,180.0,180.0,180.0,180.0,180.0,180.0,180.0,180.0,180.0,180.0,180.0,180.0,180.0,180.0,180.0,180.0,180.0,180.0,194.0,194.0,194.0,194.0,194.0,194.0,194.0,194.0,194.0,194.0,194.0,194.0,194.0,194.0,194.0,194.0,194.0,194.0,194.0,194.0,194.0,194.0,194.0,194.0],\"yaxis\":\"y\",\"type\":\"scatter\"},{\"hovertemplate\":\"variable=Sentiment_NEGATIVE<br>datetime=%{x}<br>value=%{y}<extra></extra>\",\"legendgroup\":\"Sentiment_NEGATIVE\",\"line\":{\"color\":\"#ab63fa\",\"dash\":\"solid\"},\"marker\":{\"symbol\":\"circle\"},\"mode\":\"lines\",\"name\":\"Negative Sentiment\",\"orientation\":\"v\",\"showlegend\":true,\"x\":[\"2023-06-01T00:59:59\",\"2023-06-01T01:59:59\",\"2023-06-01T02:59:59\",\"2023-06-01T03:59:59\",\"2023-06-01T04:59:59\",\"2023-06-01T05:59:59\",\"2023-06-01T06:59:59\",\"2023-06-01T07:59:59\",\"2023-06-01T08:59:59\",\"2023-06-01T09:59:59\",\"2023-06-01T10:59:59\",\"2023-06-01T11:59:59\",\"2023-06-01T12:59:59\",\"2023-06-01T13:59:59\",\"2023-06-01T14:59:59\",\"2023-06-01T15:59:59\",\"2023-06-01T16:59:59\",\"2023-06-01T17:59:59\",\"2023-06-01T18:59:59\",\"2023-06-01T19:59:59\",\"2023-06-01T20:59:59\",\"2023-06-01T21:59:59\",\"2023-06-01T22:59:59\",\"2023-06-01T23:59:59\",\"2023-06-02T00:59:59\",\"2023-06-02T01:59:59\",\"2023-06-02T02:59:59\",\"2023-06-02T03:59:59\",\"2023-06-02T04:59:59\",\"2023-06-02T05:59:59\",\"2023-06-02T06:59:59\",\"2023-06-02T07:59:59\",\"2023-06-02T08:59:59\",\"2023-06-02T09:59:59\",\"2023-06-02T10:59:59\",\"2023-06-02T11:59:59\",\"2023-06-02T12:59:59\",\"2023-06-02T13:59:59\",\"2023-06-02T14:59:59\",\"2023-06-02T15:59:59\",\"2023-06-02T16:59:59\",\"2023-06-02T17:59:59\",\"2023-06-02T18:59:59\",\"2023-06-02T19:59:59\",\"2023-06-02T20:59:59\",\"2023-06-02T21:59:59\",\"2023-06-02T22:59:59\",\"2023-06-02T23:59:59\",\"2023-06-03T00:59:59\",\"2023-06-03T01:59:59\",\"2023-06-03T02:59:59\",\"2023-06-03T03:59:59\",\"2023-06-03T04:59:59\",\"2023-06-03T05:59:59\",\"2023-06-03T06:59:59\",\"2023-06-03T07:59:59\",\"2023-06-03T08:59:59\",\"2023-06-03T09:59:59\",\"2023-06-03T10:59:59\",\"2023-06-03T11:59:59\",\"2023-06-03T12:59:59\",\"2023-06-03T13:59:59\",\"2023-06-03T14:59:59\",\"2023-06-03T15:59:59\",\"2023-06-03T16:59:59\",\"2023-06-03T17:59:59\",\"2023-06-03T18:59:59\",\"2023-06-03T19:59:59\",\"2023-06-03T20:59:59\",\"2023-06-03T21:59:59\",\"2023-06-03T22:59:59\",\"2023-06-03T23:59:59\",\"2023-06-04T00:59:59\",\"2023-06-04T01:59:59\",\"2023-06-04T02:59:59\",\"2023-06-04T03:59:59\",\"2023-06-04T04:59:59\",\"2023-06-04T05:59:59\",\"2023-06-04T06:59:59\",\"2023-06-04T07:59:59\",\"2023-06-04T08:59:59\",\"2023-06-04T09:59:59\",\"2023-06-04T10:59:59\",\"2023-06-04T11:59:59\",\"2023-06-04T12:59:59\",\"2023-06-04T13:59:59\",\"2023-06-04T14:59:59\",\"2023-06-04T15:59:59\",\"2023-06-04T16:59:59\",\"2023-06-04T17:59:59\",\"2023-06-04T18:59:59\",\"2023-06-04T19:59:59\",\"2023-06-04T20:59:59\",\"2023-06-04T21:59:59\",\"2023-06-04T22:59:59\",\"2023-06-04T23:59:59\",\"2023-06-05T00:59:59\",\"2023-06-05T01:59:59\",\"2023-06-05T02:59:59\",\"2023-06-05T03:59:59\",\"2023-06-05T04:59:59\",\"2023-06-05T05:59:59\",\"2023-06-05T06:59:59\",\"2023-06-05T07:59:59\",\"2023-06-05T08:59:59\",\"2023-06-05T09:59:59\",\"2023-06-05T10:59:59\",\"2023-06-05T11:59:59\",\"2023-06-05T12:59:59\",\"2023-06-05T13:59:59\",\"2023-06-05T14:59:59\",\"2023-06-05T15:59:59\",\"2023-06-05T16:59:59\",\"2023-06-05T17:59:59\",\"2023-06-05T18:59:59\",\"2023-06-05T19:59:59\",\"2023-06-05T20:59:59\",\"2023-06-05T21:59:59\",\"2023-06-05T22:59:59\",\"2023-06-05T23:59:59\",\"2023-06-06T00:59:59\",\"2023-06-06T01:59:59\",\"2023-06-06T02:59:59\",\"2023-06-06T03:59:59\",\"2023-06-06T04:59:59\",\"2023-06-06T05:59:59\",\"2023-06-06T06:59:59\",\"2023-06-06T07:59:59\",\"2023-06-06T08:59:59\",\"2023-06-06T09:59:59\",\"2023-06-06T10:59:59\",\"2023-06-06T11:59:59\",\"2023-06-06T12:59:59\",\"2023-06-06T13:59:59\",\"2023-06-06T14:59:59\",\"2023-06-06T15:59:59\",\"2023-06-06T16:59:59\",\"2023-06-06T17:59:59\",\"2023-06-06T18:59:59\",\"2023-06-06T19:59:59\",\"2023-06-06T20:59:59\",\"2023-06-06T21:59:59\",\"2023-06-06T22:59:59\",\"2023-06-06T23:59:59\"],\"xaxis\":\"x\",\"y\":[8.0,8.0,8.0,8.0,8.0,8.0,8.0,8.0,8.0,8.0,8.0,8.0,8.0,8.0,8.0,8.0,8.0,8.0,8.0,8.0,8.0,8.0,8.0,8.0,4.0,4.0,4.0,4.0,4.0,4.0,4.0,4.0,4.0,4.0,4.0,4.0,4.0,4.0,4.0,4.0,4.0,4.0,4.0,4.0,4.0,4.0,4.0,4.0,21.0,21.0,21.0,21.0,21.0,21.0,21.0,21.0,21.0,21.0,21.0,21.0,21.0,21.0,21.0,21.0,21.0,21.0,21.0,21.0,21.0,21.0,21.0,21.0,25.0,25.0,25.0,25.0,25.0,25.0,25.0,25.0,25.0,25.0,25.0,25.0,25.0,25.0,25.0,25.0,25.0,25.0,25.0,25.0,25.0,25.0,25.0,25.0,8.0,8.0,8.0,8.0,8.0,8.0,8.0,8.0,8.0,8.0,8.0,8.0,8.0,8.0,8.0,8.0,8.0,8.0,8.0,8.0,8.0,8.0,8.0,8.0,6.0,6.0,6.0,6.0,6.0,6.0,6.0,6.0,6.0,6.0,6.0,6.0,6.0,6.0,6.0,6.0,6.0,6.0,6.0,6.0,6.0,6.0,6.0,6.0],\"yaxis\":\"y\",\"type\":\"scatter\"}],                        {\"template\":{\"data\":{\"histogram2dcontour\":[{\"type\":\"histogram2dcontour\",\"colorbar\":{\"outlinewidth\":0,\"ticks\":\"\"},\"colorscale\":[[0.0,\"#0d0887\"],[0.1111111111111111,\"#46039f\"],[0.2222222222222222,\"#7201a8\"],[0.3333333333333333,\"#9c179e\"],[0.4444444444444444,\"#bd3786\"],[0.5555555555555556,\"#d8576b\"],[0.6666666666666666,\"#ed7953\"],[0.7777777777777778,\"#fb9f3a\"],[0.8888888888888888,\"#fdca26\"],[1.0,\"#f0f921\"]]}],\"choropleth\":[{\"type\":\"choropleth\",\"colorbar\":{\"outlinewidth\":0,\"ticks\":\"\"}}],\"histogram2d\":[{\"type\":\"histogram2d\",\"colorbar\":{\"outlinewidth\":0,\"ticks\":\"\"},\"colorscale\":[[0.0,\"#0d0887\"],[0.1111111111111111,\"#46039f\"],[0.2222222222222222,\"#7201a8\"],[0.3333333333333333,\"#9c179e\"],[0.4444444444444444,\"#bd3786\"],[0.5555555555555556,\"#d8576b\"],[0.6666666666666666,\"#ed7953\"],[0.7777777777777778,\"#fb9f3a\"],[0.8888888888888888,\"#fdca26\"],[1.0,\"#f0f921\"]]}],\"heatmap\":[{\"type\":\"heatmap\",\"colorbar\":{\"outlinewidth\":0,\"ticks\":\"\"},\"colorscale\":[[0.0,\"#0d0887\"],[0.1111111111111111,\"#46039f\"],[0.2222222222222222,\"#7201a8\"],[0.3333333333333333,\"#9c179e\"],[0.4444444444444444,\"#bd3786\"],[0.5555555555555556,\"#d8576b\"],[0.6666666666666666,\"#ed7953\"],[0.7777777777777778,\"#fb9f3a\"],[0.8888888888888888,\"#fdca26\"],[1.0,\"#f0f921\"]]}],\"heatmapgl\":[{\"type\":\"heatmapgl\",\"colorbar\":{\"outlinewidth\":0,\"ticks\":\"\"},\"colorscale\":[[0.0,\"#0d0887\"],[0.1111111111111111,\"#46039f\"],[0.2222222222222222,\"#7201a8\"],[0.3333333333333333,\"#9c179e\"],[0.4444444444444444,\"#bd3786\"],[0.5555555555555556,\"#d8576b\"],[0.6666666666666666,\"#ed7953\"],[0.7777777777777778,\"#fb9f3a\"],[0.8888888888888888,\"#fdca26\"],[1.0,\"#f0f921\"]]}],\"contourcarpet\":[{\"type\":\"contourcarpet\",\"colorbar\":{\"outlinewidth\":0,\"ticks\":\"\"}}],\"contour\":[{\"type\":\"contour\",\"colorbar\":{\"outlinewidth\":0,\"ticks\":\"\"},\"colorscale\":[[0.0,\"#0d0887\"],[0.1111111111111111,\"#46039f\"],[0.2222222222222222,\"#7201a8\"],[0.3333333333333333,\"#9c179e\"],[0.4444444444444444,\"#bd3786\"],[0.5555555555555556,\"#d8576b\"],[0.6666666666666666,\"#ed7953\"],[0.7777777777777778,\"#fb9f3a\"],[0.8888888888888888,\"#fdca26\"],[1.0,\"#f0f921\"]]}],\"surface\":[{\"type\":\"surface\",\"colorbar\":{\"outlinewidth\":0,\"ticks\":\"\"},\"colorscale\":[[0.0,\"#0d0887\"],[0.1111111111111111,\"#46039f\"],[0.2222222222222222,\"#7201a8\"],[0.3333333333333333,\"#9c179e\"],[0.4444444444444444,\"#bd3786\"],[0.5555555555555556,\"#d8576b\"],[0.6666666666666666,\"#ed7953\"],[0.7777777777777778,\"#fb9f3a\"],[0.8888888888888888,\"#fdca26\"],[1.0,\"#f0f921\"]]}],\"mesh3d\":[{\"type\":\"mesh3d\",\"colorbar\":{\"outlinewidth\":0,\"ticks\":\"\"}}],\"scatter\":[{\"fillpattern\":{\"fillmode\":\"overlay\",\"size\":10,\"solidity\":0.2},\"type\":\"scatter\"}],\"parcoords\":[{\"type\":\"parcoords\",\"line\":{\"colorbar\":{\"outlinewidth\":0,\"ticks\":\"\"}}}],\"scatterpolargl\":[{\"type\":\"scatterpolargl\",\"marker\":{\"colorbar\":{\"outlinewidth\":0,\"ticks\":\"\"}}}],\"bar\":[{\"error_x\":{\"color\":\"#2a3f5f\"},\"error_y\":{\"color\":\"#2a3f5f\"},\"marker\":{\"line\":{\"color\":\"#E5ECF6\",\"width\":0.5},\"pattern\":{\"fillmode\":\"overlay\",\"size\":10,\"solidity\":0.2}},\"type\":\"bar\"}],\"scattergeo\":[{\"type\":\"scattergeo\",\"marker\":{\"colorbar\":{\"outlinewidth\":0,\"ticks\":\"\"}}}],\"scatterpolar\":[{\"type\":\"scatterpolar\",\"marker\":{\"colorbar\":{\"outlinewidth\":0,\"ticks\":\"\"}}}],\"histogram\":[{\"marker\":{\"pattern\":{\"fillmode\":\"overlay\",\"size\":10,\"solidity\":0.2}},\"type\":\"histogram\"}],\"scattergl\":[{\"type\":\"scattergl\",\"marker\":{\"colorbar\":{\"outlinewidth\":0,\"ticks\":\"\"}}}],\"scatter3d\":[{\"type\":\"scatter3d\",\"line\":{\"colorbar\":{\"outlinewidth\":0,\"ticks\":\"\"}},\"marker\":{\"colorbar\":{\"outlinewidth\":0,\"ticks\":\"\"}}}],\"scattermapbox\":[{\"type\":\"scattermapbox\",\"marker\":{\"colorbar\":{\"outlinewidth\":0,\"ticks\":\"\"}}}],\"scatterternary\":[{\"type\":\"scatterternary\",\"marker\":{\"colorbar\":{\"outlinewidth\":0,\"ticks\":\"\"}}}],\"scattercarpet\":[{\"type\":\"scattercarpet\",\"marker\":{\"colorbar\":{\"outlinewidth\":0,\"ticks\":\"\"}}}],\"carpet\":[{\"aaxis\":{\"endlinecolor\":\"#2a3f5f\",\"gridcolor\":\"white\",\"linecolor\":\"white\",\"minorgridcolor\":\"white\",\"startlinecolor\":\"#2a3f5f\"},\"baxis\":{\"endlinecolor\":\"#2a3f5f\",\"gridcolor\":\"white\",\"linecolor\":\"white\",\"minorgridcolor\":\"white\",\"startlinecolor\":\"#2a3f5f\"},\"type\":\"carpet\"}],\"table\":[{\"cells\":{\"fill\":{\"color\":\"#EBF0F8\"},\"line\":{\"color\":\"white\"}},\"header\":{\"fill\":{\"color\":\"#C8D4E3\"},\"line\":{\"color\":\"white\"}},\"type\":\"table\"}],\"barpolar\":[{\"marker\":{\"line\":{\"color\":\"#E5ECF6\",\"width\":0.5},\"pattern\":{\"fillmode\":\"overlay\",\"size\":10,\"solidity\":0.2}},\"type\":\"barpolar\"}],\"pie\":[{\"automargin\":true,\"type\":\"pie\"}]},\"layout\":{\"autotypenumbers\":\"strict\",\"colorway\":[\"#636efa\",\"#EF553B\",\"#00cc96\",\"#ab63fa\",\"#FFA15A\",\"#19d3f3\",\"#FF6692\",\"#B6E880\",\"#FF97FF\",\"#FECB52\"],\"font\":{\"color\":\"#2a3f5f\"},\"hovermode\":\"closest\",\"hoverlabel\":{\"align\":\"left\"},\"paper_bgcolor\":\"white\",\"plot_bgcolor\":\"#E5ECF6\",\"polar\":{\"bgcolor\":\"#E5ECF6\",\"angularaxis\":{\"gridcolor\":\"white\",\"linecolor\":\"white\",\"ticks\":\"\"},\"radialaxis\":{\"gridcolor\":\"white\",\"linecolor\":\"white\",\"ticks\":\"\"}},\"ternary\":{\"bgcolor\":\"#E5ECF6\",\"aaxis\":{\"gridcolor\":\"white\",\"linecolor\":\"white\",\"ticks\":\"\"},\"baxis\":{\"gridcolor\":\"white\",\"linecolor\":\"white\",\"ticks\":\"\"},\"caxis\":{\"gridcolor\":\"white\",\"linecolor\":\"white\",\"ticks\":\"\"}},\"coloraxis\":{\"colorbar\":{\"outlinewidth\":0,\"ticks\":\"\"}},\"colorscale\":{\"sequential\":[[0.0,\"#0d0887\"],[0.1111111111111111,\"#46039f\"],[0.2222222222222222,\"#7201a8\"],[0.3333333333333333,\"#9c179e\"],[0.4444444444444444,\"#bd3786\"],[0.5555555555555556,\"#d8576b\"],[0.6666666666666666,\"#ed7953\"],[0.7777777777777778,\"#fb9f3a\"],[0.8888888888888888,\"#fdca26\"],[1.0,\"#f0f921\"]],\"sequentialminus\":[[0.0,\"#0d0887\"],[0.1111111111111111,\"#46039f\"],[0.2222222222222222,\"#7201a8\"],[0.3333333333333333,\"#9c179e\"],[0.4444444444444444,\"#bd3786\"],[0.5555555555555556,\"#d8576b\"],[0.6666666666666666,\"#ed7953\"],[0.7777777777777778,\"#fb9f3a\"],[0.8888888888888888,\"#fdca26\"],[1.0,\"#f0f921\"]],\"diverging\":[[0,\"#8e0152\"],[0.1,\"#c51b7d\"],[0.2,\"#de77ae\"],[0.3,\"#f1b6da\"],[0.4,\"#fde0ef\"],[0.5,\"#f7f7f7\"],[0.6,\"#e6f5d0\"],[0.7,\"#b8e186\"],[0.8,\"#7fbc41\"],[0.9,\"#4d9221\"],[1,\"#276419\"]]},\"xaxis\":{\"gridcolor\":\"white\",\"linecolor\":\"white\",\"ticks\":\"\",\"title\":{\"standoff\":15},\"zerolinecolor\":\"white\",\"automargin\":true,\"zerolinewidth\":2},\"yaxis\":{\"gridcolor\":\"white\",\"linecolor\":\"white\",\"ticks\":\"\",\"title\":{\"standoff\":15},\"zerolinecolor\":\"white\",\"automargin\":true,\"zerolinewidth\":2},\"scene\":{\"xaxis\":{\"backgroundcolor\":\"#E5ECF6\",\"gridcolor\":\"white\",\"linecolor\":\"white\",\"showbackground\":true,\"ticks\":\"\",\"zerolinecolor\":\"white\",\"gridwidth\":2},\"yaxis\":{\"backgroundcolor\":\"#E5ECF6\",\"gridcolor\":\"white\",\"linecolor\":\"white\",\"showbackground\":true,\"ticks\":\"\",\"zerolinecolor\":\"white\",\"gridwidth\":2},\"zaxis\":{\"backgroundcolor\":\"#E5ECF6\",\"gridcolor\":\"white\",\"linecolor\":\"white\",\"showbackground\":true,\"ticks\":\"\",\"zerolinecolor\":\"white\",\"gridwidth\":2}},\"shapedefaults\":{\"line\":{\"color\":\"#2a3f5f\"}},\"annotationdefaults\":{\"arrowcolor\":\"#2a3f5f\",\"arrowhead\":0,\"arrowwidth\":1},\"geo\":{\"bgcolor\":\"white\",\"landcolor\":\"#E5ECF6\",\"subunitcolor\":\"white\",\"showland\":true,\"showlakes\":true,\"lakecolor\":\"white\"},\"title\":{\"x\":0.05},\"mapbox\":{\"style\":\"light\"}}},\"xaxis\":{\"anchor\":\"y\",\"domain\":[0.0,1.0],\"title\":{\"text\":\"datetime\"},\"showgrid\":false},\"yaxis\":{\"anchor\":\"x\",\"domain\":[0.0,1.0],\"title\":{\"text\":\"Close Price\"},\"showgrid\":false},\"legend\":{\"title\":{\"text\":\"Close Price\"},\"tracegroupgap\":0},\"margin\":{\"t\":60},\"title\":{\"text\":\"BTC Price vs Tweet Sentiment\"},\"font\":{\"size\":15,\"color\":\"black\"},\"plot_bgcolor\":\"white\"},                        {\"responsive\": true}                    ).then(function(){\n",
       "                            \n",
       "var gd = document.getElementById('9da0e110-97ad-491e-b24e-cec013d6fd99');\n",
       "var x = new MutationObserver(function (mutations, observer) {{\n",
       "        var display = window.getComputedStyle(gd).display;\n",
       "        if (!display || display === 'none') {{\n",
       "            console.log([gd, 'removed!']);\n",
       "            Plotly.purge(gd);\n",
       "            observer.disconnect();\n",
       "        }}\n",
       "}});\n",
       "\n",
       "// Listen for the removal of the full notebook cells\n",
       "var notebookContainer = gd.closest('#notebook-container');\n",
       "if (notebookContainer) {{\n",
       "    x.observe(notebookContainer, {childList: true});\n",
       "}}\n",
       "\n",
       "// Listen for the clearing of the current output cell\n",
       "var outputEl = gd.closest('.output');\n",
       "if (outputEl) {{\n",
       "    x.observe(outputEl, {childList: true});\n",
       "}}\n",
       "\n",
       "                        })                };                });            </script>        </div>"
      ]
     },
     "metadata": {},
     "output_type": "display_data"
    }
   ],
   "source": [
    "names = cycle(['Change in Close price', 'Positive Sentiment', 'Neutral Sentiment', 'Negative Sentiment'])\n",
    "\n",
    "fig = px.line(df_hourly, x=df_hourly['datetime'], y=[df_hourly['change_close'], df_hourly['Sentiment_POSITIVE'], df_hourly['Sentiment_NEUTRAL'], df_hourly['Sentiment_NEGATIVE']],)\n",
    "fig.update_layout(title_text='BTC Price vs Tweet Sentiment',\n",
    "                  plot_bgcolor='white', font_size=15, font_color='black',legend_title_text='Close Price')\n",
    "fig.update_layout(\n",
    "    yaxis=dict(\n",
    "        title='Close Price',\n",
    "    )\n",
    ")\n",
    "\n",
    "\n",
    "fig.for_each_trace(lambda t:  t.update(name = next(names)))\n",
    "\n",
    "fig.update_xaxes(showgrid=False)\n",
    "fig.update_yaxes(showgrid=False)"
   ]
  },
  {
   "cell_type": "code",
   "execution_count": 144,
   "metadata": {},
   "outputs": [
    {
     "data": {
      "image/png": "[encoded data removed]",
      "text/plain": [
       "<Figure size 1000x600 with 2 Axes>"
      ]
     },
     "metadata": {},
     "output_type": "display_data"
    }
   ],
   "source": [
    "t = df_hourly ['datetime']\n",
    "data1 = df_hourly['change_close']\n",
    "data2 = df_hourly['Sentiment_POSITIVE']\n",
    "data3 = df_hourly['Sentiment_NEUTRAL']\n",
    "data4 = df_hourly['Sentiment_NEGATIVE']\n",
    "\n",
    "fig, ax1 = plt.subplots(figsize=(10, 6))\n",
    "\n",
    "color = 'tab:red'\n",
    "ax1.set_xlabel('Date/Time')\n",
    "ax1.set_ylabel('Change in close price', color='black')\n",
    "ax1.plot(t, data1, color='red')\n",
    "ax1.tick_params(axis='y', labelcolor='black')\n",
    "ax1.set_ylim([-2000, 2000])\n",
    "\n",
    "\n",
    "ax2 = ax1.twinx()  # instantiate a second axes that shares the same x-axis\n",
    "\n",
    "# color = 'tab:blue'\n",
    "ax2.set_ylabel('Sentiment', color='black')  # we already handled the x-label with ax1\n",
    "ax2.plot(t, data2, color='blue', label='Positive Sentiment')\n",
    "# ax2.plot(t, data3, color='green', label='Neutral Sentiment')\n",
    "# ax2.plot(t, data4, color='orange', label='Negative Sentiment')\n",
    "ax2.set_ylim([-30, 30])\n",
    "# ax2.tick_params(axis='y', labelcolor=color)\n",
    "\n",
    "ax1.legend(['Change in close price'], loc='upper left')\n",
    "# ax2.legend(['Positive Sentiment', 'Neutral Sentiment', 'Negative Sentiment'], loc='upper right')\n",
    "ax2.legend(['Positive Sentiment'], loc='upper right')\n",
    "\n",
    "\n",
    "ax1.tick_params(axis='x', labelsize=8)\n",
    "ax2.tick_params(axis='x', labelsize=8)\n",
    "\n",
    "# fig.tight_layout()  # otherwise the right y-label is slightly clipped\n",
    "plt.show()\n"
   ]
  },
  {
   "cell_type": "code",
   "execution_count": null,
   "metadata": {},
   "outputs": [],
   "source": []
  },
  {
   "cell_type": "code",
   "execution_count": null,
   "metadata": {},
   "outputs": [],
   "source": []
  },
  {
   "cell_type": "code",
   "execution_count": null,
   "metadata": {},
   "outputs": [],
   "source": []
  }
 ],
 "metadata": {
  "kernelspec": {
   "display_name": "Python 3 (Data Science)",
   "language": "python",
   "name": "python3__SAGEMAKER_INTERNAL__arn:aws:sagemaker:eu-west-1:470317259841:image/datascience-1.0"
  },
  "language_info": {
   "codemirror_mode": {
    "name": "ipython",
    "version": 3
   },
   "file_extension": ".py",
   "mimetype": "text/x-python",
   "name": "python",
   "nbconvert_exporter": "python",
   "pygments_lexer": "ipython3",
   "version": "3.7.10"
  }
 },
 "nbformat": 4,
 "nbformat_minor": 4
}
